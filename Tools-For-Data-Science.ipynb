{
    "cells": [
        {
            "metadata": {
                "collapsed": true
            },
            "cell_type": "markdown",
            "source": "# Tools For  Data Science - My Jupyter Notebook on IBM Watson Studio"
        },
        {
            "metadata": {},
            "cell_type": "markdown",
            "source": "**Dimas Dwi Putra**\n"
        },
        {
            "metadata": {},
            "cell_type": "markdown",
            "source": " Analyst Developer"
        },
        {
            "metadata": {},
            "cell_type": "markdown",
            "source": "*I am interested in data science because, I want to combine the power of AI/ML with the business requirements, to create powerful solutions and provide deep insights into issues an organization needs to solve or discover underlying patterns to discover new potential insights*"
        },
        {
            "metadata": {},
            "cell_type": "markdown",
            "source": "### The Following Code will generate a random integer between 80 and 100"
        },
        {
            "metadata": {},
            "cell_type": "code",
            "source": "import random\n\nRandom_int = random.randint(80,100)\n\nprint(Random_int)",
            "execution_count": 1,
            "outputs": [
                {
                    "output_type": "stream",
                    "text": "80\n",
                    "name": "stdout"
                }
            ]
        },
        {
            "metadata": {},
            "cell_type": "markdown",
            "source": "Interested technologies:\n***\n1. AI- ML/DL\n2. Cloud\n3. Data Analytics\n4. IoT\n***\n[Github](https://www.github.com/dimas263) https://www.github.com/dimas263"
        },
        {
            "metadata": {},
            "cell_type": "code",
            "source": "",
            "execution_count": null,
            "outputs": []
        }
    ],
    "metadata": {
        "kernelspec": {
            "name": "python3",
            "display_name": "Python 3.7",
            "language": "python"
        },
        "language_info": {
            "name": "python",
            "version": "3.7.10",
            "mimetype": "text/x-python",
            "codemirror_mode": {
                "name": "ipython",
                "version": 3
            },
            "pygments_lexer": "ipython3",
            "nbconvert_exporter": "python",
            "file_extension": ".py"
        }
    },
    "nbformat": 4,
    "nbformat_minor": 1
}