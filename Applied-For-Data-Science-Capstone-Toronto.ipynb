{
    "cells": [
        {
            "metadata": {
                "collapsed": true
            },
            "cell_type": "markdown",
            "source": "# Segmenting and Clustering Neighborhoods in Toronto"
        },
        {
            "metadata": {},
            "cell_type": "markdown",
            "source": "Author: Dimas Dwi Putra"
        },
        {
            "metadata": {},
            "cell_type": "markdown",
            "source": "- To view the notebook with full map: \n  https://dataplatform.cloud.ibm.com/analytics/notebooks/v2/38fd8e13-289d-42f4-901d-3760b60ae356/view?access_token=c3f867cb1f3d74fb73effe02f36c124b7598d1464039d74e20883d5ecd814c15"
        },
        {
            "metadata": {},
            "cell_type": "markdown",
            "source": "# Part 1"
        },
        {
            "metadata": {},
            "cell_type": "markdown",
            "source": "## Question 2:\n\nUse the Notebook to build the code to scrape the following Wikipedia page, https://en.wikipedia.org/wiki/List_of_postal_codes_of_Canada:_M, in order to obtain the data that is in the table of postal codes and to transform the data into a pandas dataframe like the one shown below:"
        },
        {
            "metadata": {},
            "cell_type": "code",
            "source": "import pandas as pd\nimport requests\npd.options.display.max_rows = 10000\n",
            "execution_count": 1,
            "outputs": []
        },
        {
            "metadata": {},
            "cell_type": "code",
            "source": "turl = \"https://en.wikipedia.org/wiki/List_of_postal_codes_of_Canada:_M\"\npsct = requests.get(turl)\npsct",
            "execution_count": 2,
            "outputs": [
                {
                    "output_type": "execute_result",
                    "execution_count": 2,
                    "data": {
                        "text/plain": "<Response [200]>"
                    },
                    "metadata": {}
                }
            ]
        },
        {
            "metadata": {},
            "cell_type": "code",
            "source": "psct_data = pd.read_html(psct.text)\npsct_data",
            "execution_count": 3,
            "outputs": [
                {
                    "output_type": "execute_result",
                    "execution_count": 3,
                    "data": {
                        "text/plain": "[                                                    0  \\\n 0                                     M1ANot assigned   \n 1                     M1BScarborough(Malvern / Rouge)   \n 2   M1CScarborough(Rouge Hill / Port Union / Highl...   \n 3   M1EScarborough(Guildwood / Morningside / West ...   \n 4                              M1GScarborough(Woburn)   \n 5                           M1HScarborough(Cedarbrae)   \n 6                 M1JScarborough(Scarborough Village)   \n 7   M1KScarborough(Kennedy Park / Ionview / East B...   \n 8   M1LScarborough(Golden Mile / Clairlea / Oakridge)   \n 9   M1MScarborough(Cliffside / Cliffcrest / Scarbo...   \n 10       M1NScarborough(Birch Cliff / Cliffside West)   \n 11  M1PScarborough(Dorset Park / Wexford Heights /...   \n 12                 M1RScarborough(Wexford / Maryvale)   \n 13                          M1SScarborough(Agincourt)   \n 14  M1TScarborough(Clarks Corners / Tam O'Shanter ...   \n 15  M1VScarborough(Milliken / Agincourt North / St...   \n 16     M1WScarborough(Steeles West / L'Amoreaux West)   \n 17                        M1XScarborough(Upper Rouge)   \n 18                                    M1YNot assigned   \n 19                                    M1ZNot assigned   \n \n                                                 1  \\\n 0                                 M2ANot assigned   \n 1                                 M2BNot assigned   \n 2                                 M2CNot assigned   \n 3                                 M2ENot assigned   \n 4                                 M2GNot assigned   \n 5                M2HNorth York(Hillcrest Village)   \n 6   M2JNorth York(Fairview / Henry Farm / Oriole)   \n 7                  M2KNorth York(Bayview Village)   \n 8        M2LNorth York(York Mills / Silver Hills)   \n 9         M2MNorth York(Willowdale / Newtonbrook)   \n 10                 M2NNorth York(Willowdale)South   \n 11                 M2PNorth York(York Mills West)   \n 12                  M2RNorth York(Willowdale)West   \n 13                                M2SNot assigned   \n 14                                M2TNot assigned   \n 15                                M2VNot assigned   \n 16                                M2WNot assigned   \n 17                                M2XNot assigned   \n 18                                M2YNot assigned   \n 19                                M2ZNot assigned   \n \n                                                     2  \\\n 0                            M3ANorth York(Parkwoods)   \n 1                       M3BNorth York(Don Mills)North   \n 2      M3CNorth York(Don Mills)South(Flemingdon Park)   \n 3                                     M3ENot assigned   \n 4                                     M3GNot assigned   \n 5   M3HNorth York(Bathurst Manor / Wilson Heights ...   \n 6     M3JNorth York(Northwood Park / York University)   \n 7          M3KNorth York(Downsview)East (CFB Toronto)   \n 8                        M3LNorth York(Downsview)West   \n 9                     M3MNorth York(Downsview)Central   \n 10                  M3NNorth York(Downsview)Northwest   \n 11                                    M3PNot assigned   \n 12                                    M3RNot assigned   \n 13                                    M3SNot assigned   \n 14                                    M3TNot assigned   \n 15                                    M3VNot assigned   \n 16                                    M3WNot assigned   \n 17                                    M3XNot assigned   \n 18                                    M3YNot assigned   \n 19                                    M3ZNot assigned   \n \n                                                     3  \\\n 0                     M4ANorth York(Victoria Village)   \n 1      M4BEast York(Parkview Hill / Woodbine Gardens)   \n 2                      M4CEast York(Woodbine Heights)   \n 3                        M4EEast Toronto(The Beaches)   \n 4                               M4GEast York(Leaside)   \n 5                      M4HEast York(Thorncliffe Park)   \n 6         M4JEast YorkEast Toronto(The Danforth East)   \n 7      M4KEast Toronto(The Danforth West / Riverdale)   \n 8    M4LEast Toronto(India Bazaar / The Beaches West)   \n 9                    M4MEast Toronto(Studio District)   \n 10                  M4NCentral Toronto(Lawrence Park)   \n 11               M4PCentral Toronto(Davisville North)   \n 12             M4RCentral Toronto(North Toronto West)   \n 13                     M4SCentral Toronto(Davisville)   \n 14   M4TCentral Toronto(Moore Park / Summerhill East)   \n 15  M4VCentral Toronto(Summerhill West / Rathnelly...   \n 16                      M4WDowntown Toronto(Rosedale)   \n 17  M4XDowntown Toronto(St. James Town / Cabbagetown)   \n 18          M4YDowntown Toronto(Church and Wellesley)   \n 19                                    M4ZNot assigned   \n \n                                                     4  \\\n 0     M5ADowntown Toronto(Regent Park / Harbourfront)   \n 1       M5BDowntown Toronto(Garden District, Ryerson)   \n 2                 M5CDowntown Toronto(St. James Town)   \n 3                    M5EDowntown Toronto(Berczy Park)   \n 4             M5GDowntown Toronto(Central Bay Street)   \n 5     M5HDowntown Toronto(Richmond / Adelaide / King)   \n 6   M5JDowntown Toronto(Harbourfront East / Union ...   \n 7   M5KDowntown Toronto(Toronto Dominion Centre / ...   \n 8   M5LDowntown Toronto(Commerce Court / Victoria ...   \n 9   M5MNorth York(Bedford Park / Lawrence Manor East)   \n 10                       M5NCentral Toronto(Roselawn)   \n 11       M5PCentral Toronto(Forest Hill North & West)   \n 12  M5RCentral Toronto(The Annex / North Midtown /...   \n 13  M5SDowntown Toronto(University of Toronto / Ha...   \n 14  M5TDowntown Toronto(Kensington Market / Chinat...   \n 15  M5VDowntown Toronto(CN Tower / King and Spadin...   \n 16  M5WDowntown TorontoStn A PO Boxes25 The Esplan...   \n 17  M5XDowntown Toronto(First Canadian Place / Und...   \n 18                                    M5YNot assigned   \n 19                                    M5ZNot assigned   \n \n                                                     5  \\\n 0    M6ANorth York(Lawrence Manor / Lawrence Heights)   \n 1                            M6BNorth York(Glencairn)   \n 2                         M6CYork(Humewood-Cedarvale)   \n 3                        M6EYork(Caledonia-Fairbanks)   \n 4                       M6GDowntown Toronto(Christie)   \n 5      M6HWest Toronto(Dufferin / Dovercourt Village)   \n 6          M6JWest Toronto(Little Portugal / Trinity)   \n 7   M6KWest Toronto(Brockton / Parkdale Village / ...   \n 8   M6LNorth York(North Park / Maple Leaf Park / U...   \n 9   M6MYork(Del Ray / Mount Dennis / Keelsdale and...   \n 10            M6NYork(Runnymede / The Junction North)   \n 11    M6PWest Toronto(High Park / The Junction South)   \n 12           M6RWest Toronto(Parkdale / Roncesvalles)   \n 13               M6SWest Toronto(Runnymede / Swansea)   \n 14                                    M6TNot assigned   \n 15                                    M6VNot assigned   \n 16                                    M6WNot assigned   \n 17                                    M6XNot assigned   \n 18                                    M6YNot assigned   \n 19                                    M6ZNot assigned   \n \n                                                     6  \\\n 0      M7AQueen's Park(Ontario Provincial Government)   \n 1                                     M7BNot assigned   \n 2                                     M7CNot assigned   \n 3                                     M7ENot assigned   \n 4                                     M7GNot assigned   \n 5                                     M7HNot assigned   \n 6                                     M7JNot assigned   \n 7                                     M7KNot assigned   \n 8                                     M7LNot assigned   \n 9                                     M7MNot assigned   \n 10                                    M7NNot assigned   \n 11                                    M7PNot assigned   \n 12  M7RMississaugaCanada Post Gateway Processing C...   \n 13                                    M7SNot assigned   \n 14                                    M7TNot assigned   \n 15                                    M7VNot assigned   \n 16                                    M7WNot assigned   \n 17                                    M7XNot assigned   \n 18  M7YEast TorontoBusiness reply mail Processing ...   \n 19                                    M7ZNot assigned   \n \n                                                     7  \\\n 0                                     M8ANot assigned   \n 1                                     M8BNot assigned   \n 2                                     M8CNot assigned   \n 3                                     M8ENot assigned   \n 4                                     M8GNot assigned   \n 5                                     M8HNot assigned   \n 6                                     M8JNot assigned   \n 7                                     M8KNot assigned   \n 8                                     M8LNot assigned   \n 9                                     M8MNot assigned   \n 10                                    M8NNot assigned   \n 11                                    M8PNot assigned   \n 12                                    M8RNot assigned   \n 13                                    M8SNot assigned   \n 14                                    M8TNot assigned   \n 15  M8VEtobicoke(New Toronto / Mimico South / Humb...   \n 16              M8WEtobicoke(Alderwood / Long Branch)   \n 17  M8XEtobicoke(The Kingsway / Montgomery Road / ...   \n 18  M8YEtobicoke(Old Mill South / King's Mill Park...   \n 19  M8ZEtobicoke(Mimico NW / The Queensway West / ...   \n \n                                                     8  \n 0                      M9AEtobicoke(Islington Avenue)  \n 1   M9BEtobicoke(West Deane Park / Princess Garden...  \n 2   M9CEtobicoke(Eringate / Bloordale Gardens / Ol...  \n 3                                     M9ENot assigned  \n 4                                     M9GNot assigned  \n 5                                     M9HNot assigned  \n 6                                     M9JNot assigned  \n 7                                     M9KNot assigned  \n 8                        M9LNorth York(Humber Summit)  \n 9                    M9MNorth York(Humberlea / Emery)  \n 10                                    M9NYork(Weston)  \n 11                            M9PEtobicoke(Westmount)  \n 12  M9REtobicoke(Kingsview Village / St. Phillips ...  \n 13                                    M9SNot assigned  \n 14                                    M9TNot assigned  \n 15  M9VEtobicoke(South Steeles / Silverstone / Hum...  \n 16  M9WEtobicokeNorthwest(Clairville / Humberwood ...  \n 17                                    M9XNot assigned  \n 18                                    M9YNot assigned  \n 19                                    M9ZNot assigned  ,\n                                                   0   \\\n 0                                                NaN   \n 1  NL NS PE NB QC ON MB SK AB BC NU/NT YT A B C E...   \n 2                                                 NL   \n 3                                                  A   \n \n                                                   1   \\\n 0                              Canadian postal codes   \n 1  NL NS PE NB QC ON MB SK AB BC NU/NT YT A B C E...   \n 2                                                 NS   \n 3                                                  B   \n \n                                                   2    3    4    5    6    7   \\\n 0                                                NaN  NaN  NaN  NaN  NaN  NaN   \n 1  NL NS PE NB QC ON MB SK AB BC NU/NT YT A B C E...  NaN  NaN  NaN  NaN  NaN   \n 2                                                 PE   NB   QC   QC   QC   ON   \n 3                                                  C    E    G    H    J    K   \n \n     8    9    10   11   12   13   14   15     16   17  \n 0  NaN  NaN  NaN  NaN  NaN  NaN  NaN  NaN    NaN  NaN  \n 1  NaN  NaN  NaN  NaN  NaN  NaN  NaN  NaN    NaN  NaN  \n 2   ON   ON   ON   ON   MB   SK   AB   BC  NU/NT   YT  \n 3    L    M    N    P    R    S    T    V      X    Y  ,\n    0   1   2   3   4   5   6   7   8   9   10  11  12  13  14  15     16  17\n 0  NL  NS  PE  NB  QC  QC  QC  ON  ON  ON  ON  ON  MB  SK  AB  BC  NU/NT  YT\n 1   A   B   C   E   G   H   J   K   L   M   N   P   R   S   T   V      X   Y]"
                    },
                    "metadata": {}
                }
            ]
        },
        {
            "metadata": {},
            "cell_type": "markdown",
            "source": "## Question 3 : Create the dataframe below:\n- The dataframe will consist of three columns: PostalCode, Borough, and Neighborhood\n- Only process the cells that have an assigned borough. Ignore cells with a borough that is Not assigned.\n- More than one neighborhood can exist in one postal code area. For example, in the table on the Wikipedia page, you will notice that M5A is listed twice and has two neighborhoods: Harbourfront and Regent Park. These two rows will be combined into one row with the neighborhoods separated with a comma.\n- If a cell has a borough but a Not assigned neighborhood, then the neighborhood will be the same as the borough.\n- Clean your Notebook and add Markdown cells to explain your work and any assumptions you are making.\n- In the last cell of your notebook, use the .shape method to print the number of rows of your dataframe"
        },
        {
            "metadata": {},
            "cell_type": "markdown",
            "source": "- The dataframe will consist of three columns: PostalCode, Borough, and Neighborhood"
        },
        {
            "metadata": {},
            "cell_type": "code",
            "source": "df = psct_data[0]\n\ndf",
            "execution_count": 4,
            "outputs": [
                {
                    "output_type": "execute_result",
                    "execution_count": 4,
                    "data": {
                        "text/plain": "                                                    0  \\\n0                                     M1ANot assigned   \n1                     M1BScarborough(Malvern / Rouge)   \n2   M1CScarborough(Rouge Hill / Port Union / Highl...   \n3   M1EScarborough(Guildwood / Morningside / West ...   \n4                              M1GScarborough(Woburn)   \n5                           M1HScarborough(Cedarbrae)   \n6                 M1JScarborough(Scarborough Village)   \n7   M1KScarborough(Kennedy Park / Ionview / East B...   \n8   M1LScarborough(Golden Mile / Clairlea / Oakridge)   \n9   M1MScarborough(Cliffside / Cliffcrest / Scarbo...   \n10       M1NScarborough(Birch Cliff / Cliffside West)   \n11  M1PScarborough(Dorset Park / Wexford Heights /...   \n12                 M1RScarborough(Wexford / Maryvale)   \n13                          M1SScarborough(Agincourt)   \n14  M1TScarborough(Clarks Corners / Tam O'Shanter ...   \n15  M1VScarborough(Milliken / Agincourt North / St...   \n16     M1WScarborough(Steeles West / L'Amoreaux West)   \n17                        M1XScarborough(Upper Rouge)   \n18                                    M1YNot assigned   \n19                                    M1ZNot assigned   \n\n                                                1  \\\n0                                 M2ANot assigned   \n1                                 M2BNot assigned   \n2                                 M2CNot assigned   \n3                                 M2ENot assigned   \n4                                 M2GNot assigned   \n5                M2HNorth York(Hillcrest Village)   \n6   M2JNorth York(Fairview / Henry Farm / Oriole)   \n7                  M2KNorth York(Bayview Village)   \n8        M2LNorth York(York Mills / Silver Hills)   \n9         M2MNorth York(Willowdale / Newtonbrook)   \n10                 M2NNorth York(Willowdale)South   \n11                 M2PNorth York(York Mills West)   \n12                  M2RNorth York(Willowdale)West   \n13                                M2SNot assigned   \n14                                M2TNot assigned   \n15                                M2VNot assigned   \n16                                M2WNot assigned   \n17                                M2XNot assigned   \n18                                M2YNot assigned   \n19                                M2ZNot assigned   \n\n                                                    2  \\\n0                            M3ANorth York(Parkwoods)   \n1                       M3BNorth York(Don Mills)North   \n2      M3CNorth York(Don Mills)South(Flemingdon Park)   \n3                                     M3ENot assigned   \n4                                     M3GNot assigned   \n5   M3HNorth York(Bathurst Manor / Wilson Heights ...   \n6     M3JNorth York(Northwood Park / York University)   \n7          M3KNorth York(Downsview)East (CFB Toronto)   \n8                        M3LNorth York(Downsview)West   \n9                     M3MNorth York(Downsview)Central   \n10                  M3NNorth York(Downsview)Northwest   \n11                                    M3PNot assigned   \n12                                    M3RNot assigned   \n13                                    M3SNot assigned   \n14                                    M3TNot assigned   \n15                                    M3VNot assigned   \n16                                    M3WNot assigned   \n17                                    M3XNot assigned   \n18                                    M3YNot assigned   \n19                                    M3ZNot assigned   \n\n                                                    3  \\\n0                     M4ANorth York(Victoria Village)   \n1      M4BEast York(Parkview Hill / Woodbine Gardens)   \n2                      M4CEast York(Woodbine Heights)   \n3                        M4EEast Toronto(The Beaches)   \n4                               M4GEast York(Leaside)   \n5                      M4HEast York(Thorncliffe Park)   \n6         M4JEast YorkEast Toronto(The Danforth East)   \n7      M4KEast Toronto(The Danforth West / Riverdale)   \n8    M4LEast Toronto(India Bazaar / The Beaches West)   \n9                    M4MEast Toronto(Studio District)   \n10                  M4NCentral Toronto(Lawrence Park)   \n11               M4PCentral Toronto(Davisville North)   \n12             M4RCentral Toronto(North Toronto West)   \n13                     M4SCentral Toronto(Davisville)   \n14   M4TCentral Toronto(Moore Park / Summerhill East)   \n15  M4VCentral Toronto(Summerhill West / Rathnelly...   \n16                      M4WDowntown Toronto(Rosedale)   \n17  M4XDowntown Toronto(St. James Town / Cabbagetown)   \n18          M4YDowntown Toronto(Church and Wellesley)   \n19                                    M4ZNot assigned   \n\n                                                    4  \\\n0     M5ADowntown Toronto(Regent Park / Harbourfront)   \n1       M5BDowntown Toronto(Garden District, Ryerson)   \n2                 M5CDowntown Toronto(St. James Town)   \n3                    M5EDowntown Toronto(Berczy Park)   \n4             M5GDowntown Toronto(Central Bay Street)   \n5     M5HDowntown Toronto(Richmond / Adelaide / King)   \n6   M5JDowntown Toronto(Harbourfront East / Union ...   \n7   M5KDowntown Toronto(Toronto Dominion Centre / ...   \n8   M5LDowntown Toronto(Commerce Court / Victoria ...   \n9   M5MNorth York(Bedford Park / Lawrence Manor East)   \n10                       M5NCentral Toronto(Roselawn)   \n11       M5PCentral Toronto(Forest Hill North & West)   \n12  M5RCentral Toronto(The Annex / North Midtown /...   \n13  M5SDowntown Toronto(University of Toronto / Ha...   \n14  M5TDowntown Toronto(Kensington Market / Chinat...   \n15  M5VDowntown Toronto(CN Tower / King and Spadin...   \n16  M5WDowntown TorontoStn A PO Boxes25 The Esplan...   \n17  M5XDowntown Toronto(First Canadian Place / Und...   \n18                                    M5YNot assigned   \n19                                    M5ZNot assigned   \n\n                                                    5  \\\n0    M6ANorth York(Lawrence Manor / Lawrence Heights)   \n1                            M6BNorth York(Glencairn)   \n2                         M6CYork(Humewood-Cedarvale)   \n3                        M6EYork(Caledonia-Fairbanks)   \n4                       M6GDowntown Toronto(Christie)   \n5      M6HWest Toronto(Dufferin / Dovercourt Village)   \n6          M6JWest Toronto(Little Portugal / Trinity)   \n7   M6KWest Toronto(Brockton / Parkdale Village / ...   \n8   M6LNorth York(North Park / Maple Leaf Park / U...   \n9   M6MYork(Del Ray / Mount Dennis / Keelsdale and...   \n10            M6NYork(Runnymede / The Junction North)   \n11    M6PWest Toronto(High Park / The Junction South)   \n12           M6RWest Toronto(Parkdale / Roncesvalles)   \n13               M6SWest Toronto(Runnymede / Swansea)   \n14                                    M6TNot assigned   \n15                                    M6VNot assigned   \n16                                    M6WNot assigned   \n17                                    M6XNot assigned   \n18                                    M6YNot assigned   \n19                                    M6ZNot assigned   \n\n                                                    6  \\\n0      M7AQueen's Park(Ontario Provincial Government)   \n1                                     M7BNot assigned   \n2                                     M7CNot assigned   \n3                                     M7ENot assigned   \n4                                     M7GNot assigned   \n5                                     M7HNot assigned   \n6                                     M7JNot assigned   \n7                                     M7KNot assigned   \n8                                     M7LNot assigned   \n9                                     M7MNot assigned   \n10                                    M7NNot assigned   \n11                                    M7PNot assigned   \n12  M7RMississaugaCanada Post Gateway Processing C...   \n13                                    M7SNot assigned   \n14                                    M7TNot assigned   \n15                                    M7VNot assigned   \n16                                    M7WNot assigned   \n17                                    M7XNot assigned   \n18  M7YEast TorontoBusiness reply mail Processing ...   \n19                                    M7ZNot assigned   \n\n                                                    7  \\\n0                                     M8ANot assigned   \n1                                     M8BNot assigned   \n2                                     M8CNot assigned   \n3                                     M8ENot assigned   \n4                                     M8GNot assigned   \n5                                     M8HNot assigned   \n6                                     M8JNot assigned   \n7                                     M8KNot assigned   \n8                                     M8LNot assigned   \n9                                     M8MNot assigned   \n10                                    M8NNot assigned   \n11                                    M8PNot assigned   \n12                                    M8RNot assigned   \n13                                    M8SNot assigned   \n14                                    M8TNot assigned   \n15  M8VEtobicoke(New Toronto / Mimico South / Humb...   \n16              M8WEtobicoke(Alderwood / Long Branch)   \n17  M8XEtobicoke(The Kingsway / Montgomery Road / ...   \n18  M8YEtobicoke(Old Mill South / King's Mill Park...   \n19  M8ZEtobicoke(Mimico NW / The Queensway West / ...   \n\n                                                    8  \n0                      M9AEtobicoke(Islington Avenue)  \n1   M9BEtobicoke(West Deane Park / Princess Garden...  \n2   M9CEtobicoke(Eringate / Bloordale Gardens / Ol...  \n3                                     M9ENot assigned  \n4                                     M9GNot assigned  \n5                                     M9HNot assigned  \n6                                     M9JNot assigned  \n7                                     M9KNot assigned  \n8                        M9LNorth York(Humber Summit)  \n9                    M9MNorth York(Humberlea / Emery)  \n10                                    M9NYork(Weston)  \n11                            M9PEtobicoke(Westmount)  \n12  M9REtobicoke(Kingsview Village / St. Phillips ...  \n13                                    M9SNot assigned  \n14                                    M9TNot assigned  \n15  M9VEtobicoke(South Steeles / Silverstone / Hum...  \n16  M9WEtobicokeNorthwest(Clairville / Humberwood ...  \n17                                    M9XNot assigned  \n18                                    M9YNot assigned  \n19                                    M9ZNot assigned  ",
                        "text/html": "<div>\n<style scoped>\n    .dataframe tbody tr th:only-of-type {\n        vertical-align: middle;\n    }\n\n    .dataframe tbody tr th {\n        vertical-align: top;\n    }\n\n    .dataframe thead th {\n        text-align: right;\n    }\n</style>\n<table border=\"1\" class=\"dataframe\">\n  <thead>\n    <tr style=\"text-align: right;\">\n      <th></th>\n      <th>0</th>\n      <th>1</th>\n      <th>2</th>\n      <th>3</th>\n      <th>4</th>\n      <th>5</th>\n      <th>6</th>\n      <th>7</th>\n      <th>8</th>\n    </tr>\n  </thead>\n  <tbody>\n    <tr>\n      <th>0</th>\n      <td>M1ANot assigned</td>\n      <td>M2ANot assigned</td>\n      <td>M3ANorth York(Parkwoods)</td>\n      <td>M4ANorth York(Victoria Village)</td>\n      <td>M5ADowntown Toronto(Regent Park / Harbourfront)</td>\n      <td>M6ANorth York(Lawrence Manor / Lawrence Heights)</td>\n      <td>M7AQueen's Park(Ontario Provincial Government)</td>\n      <td>M8ANot assigned</td>\n      <td>M9AEtobicoke(Islington Avenue)</td>\n    </tr>\n    <tr>\n      <th>1</th>\n      <td>M1BScarborough(Malvern / Rouge)</td>\n      <td>M2BNot assigned</td>\n      <td>M3BNorth York(Don Mills)North</td>\n      <td>M4BEast York(Parkview Hill / Woodbine Gardens)</td>\n      <td>M5BDowntown Toronto(Garden District, Ryerson)</td>\n      <td>M6BNorth York(Glencairn)</td>\n      <td>M7BNot assigned</td>\n      <td>M8BNot assigned</td>\n      <td>M9BEtobicoke(West Deane Park / Princess Garden...</td>\n    </tr>\n    <tr>\n      <th>2</th>\n      <td>M1CScarborough(Rouge Hill / Port Union / Highl...</td>\n      <td>M2CNot assigned</td>\n      <td>M3CNorth York(Don Mills)South(Flemingdon Park)</td>\n      <td>M4CEast York(Woodbine Heights)</td>\n      <td>M5CDowntown Toronto(St. James Town)</td>\n      <td>M6CYork(Humewood-Cedarvale)</td>\n      <td>M7CNot assigned</td>\n      <td>M8CNot assigned</td>\n      <td>M9CEtobicoke(Eringate / Bloordale Gardens / Ol...</td>\n    </tr>\n    <tr>\n      <th>3</th>\n      <td>M1EScarborough(Guildwood / Morningside / West ...</td>\n      <td>M2ENot assigned</td>\n      <td>M3ENot assigned</td>\n      <td>M4EEast Toronto(The Beaches)</td>\n      <td>M5EDowntown Toronto(Berczy Park)</td>\n      <td>M6EYork(Caledonia-Fairbanks)</td>\n      <td>M7ENot assigned</td>\n      <td>M8ENot assigned</td>\n      <td>M9ENot assigned</td>\n    </tr>\n    <tr>\n      <th>4</th>\n      <td>M1GScarborough(Woburn)</td>\n      <td>M2GNot assigned</td>\n      <td>M3GNot assigned</td>\n      <td>M4GEast York(Leaside)</td>\n      <td>M5GDowntown Toronto(Central Bay Street)</td>\n      <td>M6GDowntown Toronto(Christie)</td>\n      <td>M7GNot assigned</td>\n      <td>M8GNot assigned</td>\n      <td>M9GNot assigned</td>\n    </tr>\n    <tr>\n      <th>5</th>\n      <td>M1HScarborough(Cedarbrae)</td>\n      <td>M2HNorth York(Hillcrest Village)</td>\n      <td>M3HNorth York(Bathurst Manor / Wilson Heights ...</td>\n      <td>M4HEast York(Thorncliffe Park)</td>\n      <td>M5HDowntown Toronto(Richmond / Adelaide / King)</td>\n      <td>M6HWest Toronto(Dufferin / Dovercourt Village)</td>\n      <td>M7HNot assigned</td>\n      <td>M8HNot assigned</td>\n      <td>M9HNot assigned</td>\n    </tr>\n    <tr>\n      <th>6</th>\n      <td>M1JScarborough(Scarborough Village)</td>\n      <td>M2JNorth York(Fairview / Henry Farm / Oriole)</td>\n      <td>M3JNorth York(Northwood Park / York University)</td>\n      <td>M4JEast YorkEast Toronto(The Danforth East)</td>\n      <td>M5JDowntown Toronto(Harbourfront East / Union ...</td>\n      <td>M6JWest Toronto(Little Portugal / Trinity)</td>\n      <td>M7JNot assigned</td>\n      <td>M8JNot assigned</td>\n      <td>M9JNot assigned</td>\n    </tr>\n    <tr>\n      <th>7</th>\n      <td>M1KScarborough(Kennedy Park / Ionview / East B...</td>\n      <td>M2KNorth York(Bayview Village)</td>\n      <td>M3KNorth York(Downsview)East (CFB Toronto)</td>\n      <td>M4KEast Toronto(The Danforth West / Riverdale)</td>\n      <td>M5KDowntown Toronto(Toronto Dominion Centre / ...</td>\n      <td>M6KWest Toronto(Brockton / Parkdale Village / ...</td>\n      <td>M7KNot assigned</td>\n      <td>M8KNot assigned</td>\n      <td>M9KNot assigned</td>\n    </tr>\n    <tr>\n      <th>8</th>\n      <td>M1LScarborough(Golden Mile / Clairlea / Oakridge)</td>\n      <td>M2LNorth York(York Mills / Silver Hills)</td>\n      <td>M3LNorth York(Downsview)West</td>\n      <td>M4LEast Toronto(India Bazaar / The Beaches West)</td>\n      <td>M5LDowntown Toronto(Commerce Court / Victoria ...</td>\n      <td>M6LNorth York(North Park / Maple Leaf Park / U...</td>\n      <td>M7LNot assigned</td>\n      <td>M8LNot assigned</td>\n      <td>M9LNorth York(Humber Summit)</td>\n    </tr>\n    <tr>\n      <th>9</th>\n      <td>M1MScarborough(Cliffside / Cliffcrest / Scarbo...</td>\n      <td>M2MNorth York(Willowdale / Newtonbrook)</td>\n      <td>M3MNorth York(Downsview)Central</td>\n      <td>M4MEast Toronto(Studio District)</td>\n      <td>M5MNorth York(Bedford Park / Lawrence Manor East)</td>\n      <td>M6MYork(Del Ray / Mount Dennis / Keelsdale and...</td>\n      <td>M7MNot assigned</td>\n      <td>M8MNot assigned</td>\n      <td>M9MNorth York(Humberlea / Emery)</td>\n    </tr>\n    <tr>\n      <th>10</th>\n      <td>M1NScarborough(Birch Cliff / Cliffside West)</td>\n      <td>M2NNorth York(Willowdale)South</td>\n      <td>M3NNorth York(Downsview)Northwest</td>\n      <td>M4NCentral Toronto(Lawrence Park)</td>\n      <td>M5NCentral Toronto(Roselawn)</td>\n      <td>M6NYork(Runnymede / The Junction North)</td>\n      <td>M7NNot assigned</td>\n      <td>M8NNot assigned</td>\n      <td>M9NYork(Weston)</td>\n    </tr>\n    <tr>\n      <th>11</th>\n      <td>M1PScarborough(Dorset Park / Wexford Heights /...</td>\n      <td>M2PNorth York(York Mills West)</td>\n      <td>M3PNot assigned</td>\n      <td>M4PCentral Toronto(Davisville North)</td>\n      <td>M5PCentral Toronto(Forest Hill North &amp; West)</td>\n      <td>M6PWest Toronto(High Park / The Junction South)</td>\n      <td>M7PNot assigned</td>\n      <td>M8PNot assigned</td>\n      <td>M9PEtobicoke(Westmount)</td>\n    </tr>\n    <tr>\n      <th>12</th>\n      <td>M1RScarborough(Wexford / Maryvale)</td>\n      <td>M2RNorth York(Willowdale)West</td>\n      <td>M3RNot assigned</td>\n      <td>M4RCentral Toronto(North Toronto West)</td>\n      <td>M5RCentral Toronto(The Annex / North Midtown /...</td>\n      <td>M6RWest Toronto(Parkdale / Roncesvalles)</td>\n      <td>M7RMississaugaCanada Post Gateway Processing C...</td>\n      <td>M8RNot assigned</td>\n      <td>M9REtobicoke(Kingsview Village / St. Phillips ...</td>\n    </tr>\n    <tr>\n      <th>13</th>\n      <td>M1SScarborough(Agincourt)</td>\n      <td>M2SNot assigned</td>\n      <td>M3SNot assigned</td>\n      <td>M4SCentral Toronto(Davisville)</td>\n      <td>M5SDowntown Toronto(University of Toronto / Ha...</td>\n      <td>M6SWest Toronto(Runnymede / Swansea)</td>\n      <td>M7SNot assigned</td>\n      <td>M8SNot assigned</td>\n      <td>M9SNot assigned</td>\n    </tr>\n    <tr>\n      <th>14</th>\n      <td>M1TScarborough(Clarks Corners / Tam O'Shanter ...</td>\n      <td>M2TNot assigned</td>\n      <td>M3TNot assigned</td>\n      <td>M4TCentral Toronto(Moore Park / Summerhill East)</td>\n      <td>M5TDowntown Toronto(Kensington Market / Chinat...</td>\n      <td>M6TNot assigned</td>\n      <td>M7TNot assigned</td>\n      <td>M8TNot assigned</td>\n      <td>M9TNot assigned</td>\n    </tr>\n    <tr>\n      <th>15</th>\n      <td>M1VScarborough(Milliken / Agincourt North / St...</td>\n      <td>M2VNot assigned</td>\n      <td>M3VNot assigned</td>\n      <td>M4VCentral Toronto(Summerhill West / Rathnelly...</td>\n      <td>M5VDowntown Toronto(CN Tower / King and Spadin...</td>\n      <td>M6VNot assigned</td>\n      <td>M7VNot assigned</td>\n      <td>M8VEtobicoke(New Toronto / Mimico South / Humb...</td>\n      <td>M9VEtobicoke(South Steeles / Silverstone / Hum...</td>\n    </tr>\n    <tr>\n      <th>16</th>\n      <td>M1WScarborough(Steeles West / L'Amoreaux West)</td>\n      <td>M2WNot assigned</td>\n      <td>M3WNot assigned</td>\n      <td>M4WDowntown Toronto(Rosedale)</td>\n      <td>M5WDowntown TorontoStn A PO Boxes25 The Esplan...</td>\n      <td>M6WNot assigned</td>\n      <td>M7WNot assigned</td>\n      <td>M8WEtobicoke(Alderwood / Long Branch)</td>\n      <td>M9WEtobicokeNorthwest(Clairville / Humberwood ...</td>\n    </tr>\n    <tr>\n      <th>17</th>\n      <td>M1XScarborough(Upper Rouge)</td>\n      <td>M2XNot assigned</td>\n      <td>M3XNot assigned</td>\n      <td>M4XDowntown Toronto(St. James Town / Cabbagetown)</td>\n      <td>M5XDowntown Toronto(First Canadian Place / Und...</td>\n      <td>M6XNot assigned</td>\n      <td>M7XNot assigned</td>\n      <td>M8XEtobicoke(The Kingsway / Montgomery Road / ...</td>\n      <td>M9XNot assigned</td>\n    </tr>\n    <tr>\n      <th>18</th>\n      <td>M1YNot assigned</td>\n      <td>M2YNot assigned</td>\n      <td>M3YNot assigned</td>\n      <td>M4YDowntown Toronto(Church and Wellesley)</td>\n      <td>M5YNot assigned</td>\n      <td>M6YNot assigned</td>\n      <td>M7YEast TorontoBusiness reply mail Processing ...</td>\n      <td>M8YEtobicoke(Old Mill South / King's Mill Park...</td>\n      <td>M9YNot assigned</td>\n    </tr>\n    <tr>\n      <th>19</th>\n      <td>M1ZNot assigned</td>\n      <td>M2ZNot assigned</td>\n      <td>M3ZNot assigned</td>\n      <td>M4ZNot assigned</td>\n      <td>M5ZNot assigned</td>\n      <td>M6ZNot assigned</td>\n      <td>M7ZNot assigned</td>\n      <td>M8ZEtobicoke(Mimico NW / The Queensway West / ...</td>\n      <td>M9ZNot assigned</td>\n    </tr>\n  </tbody>\n</table>\n</div>"
                    },
                    "metadata": {}
                }
            ]
        },
        {
            "metadata": {},
            "cell_type": "markdown",
            "source": "- Only process the cells that have an assigned borough. Ignore cells with a borough that is Not assigned."
        },
        {
            "metadata": {},
            "cell_type": "code",
            "source": "df = df[df[\"Borough\"] != 'Not assigned']\n\ndf",
            "execution_count": 5,
            "outputs": [
                {
                    "output_type": "error",
                    "ename": "KeyError",
                    "evalue": "'Borough'",
                    "traceback": [
                        "\u001b[0;31m---------------------------------------------------------------------------\u001b[0m",
                        "\u001b[0;31mKeyError\u001b[0m                                  Traceback (most recent call last)",
                        "\u001b[0;32m/opt/conda/envs/Python-3.7-OpenCE/lib/python3.7/site-packages/pandas/core/indexes/base.py\u001b[0m in \u001b[0;36mget_loc\u001b[0;34m(self, key, method, tolerance)\u001b[0m\n\u001b[1;32m   2645\u001b[0m             \u001b[0;32mtry\u001b[0m\u001b[0;34m:\u001b[0m\u001b[0;34m\u001b[0m\u001b[0;34m\u001b[0m\u001b[0m\n\u001b[0;32m-> 2646\u001b[0;31m                 \u001b[0;32mreturn\u001b[0m \u001b[0mself\u001b[0m\u001b[0;34m.\u001b[0m\u001b[0m_engine\u001b[0m\u001b[0;34m.\u001b[0m\u001b[0mget_loc\u001b[0m\u001b[0;34m(\u001b[0m\u001b[0mkey\u001b[0m\u001b[0;34m)\u001b[0m\u001b[0;34m\u001b[0m\u001b[0;34m\u001b[0m\u001b[0m\n\u001b[0m\u001b[1;32m   2647\u001b[0m             \u001b[0;32mexcept\u001b[0m \u001b[0mKeyError\u001b[0m\u001b[0;34m:\u001b[0m\u001b[0;34m\u001b[0m\u001b[0;34m\u001b[0m\u001b[0m\n",
                        "\u001b[0;32mpandas/_libs/index.pyx\u001b[0m in \u001b[0;36mpandas._libs.index.IndexEngine.get_loc\u001b[0;34m()\u001b[0m\n",
                        "\u001b[0;32mpandas/_libs/index.pyx\u001b[0m in \u001b[0;36mpandas._libs.index.IndexEngine.get_loc\u001b[0;34m()\u001b[0m\n",
                        "\u001b[0;32mpandas/_libs/index_class_helper.pxi\u001b[0m in \u001b[0;36mpandas._libs.index.Int64Engine._check_type\u001b[0;34m()\u001b[0m\n",
                        "\u001b[0;31mKeyError\u001b[0m: 'Borough'",
                        "\nDuring handling of the above exception, another exception occurred:\n",
                        "\u001b[0;31mKeyError\u001b[0m                                  Traceback (most recent call last)",
                        "\u001b[0;32m<ipython-input-5-67c02a0217bf>\u001b[0m in \u001b[0;36m<module>\u001b[0;34m\u001b[0m\n\u001b[0;32m----> 1\u001b[0;31m \u001b[0mdf\u001b[0m \u001b[0;34m=\u001b[0m \u001b[0mdf\u001b[0m\u001b[0;34m[\u001b[0m\u001b[0mdf\u001b[0m\u001b[0;34m[\u001b[0m\u001b[0;34m\"Borough\"\u001b[0m\u001b[0;34m]\u001b[0m \u001b[0;34m!=\u001b[0m \u001b[0;34m'Not assigned'\u001b[0m\u001b[0;34m]\u001b[0m\u001b[0;34m\u001b[0m\u001b[0;34m\u001b[0m\u001b[0m\n\u001b[0m\u001b[1;32m      2\u001b[0m \u001b[0;34m\u001b[0m\u001b[0m\n\u001b[1;32m      3\u001b[0m \u001b[0mdf\u001b[0m\u001b[0;34m\u001b[0m\u001b[0;34m\u001b[0m\u001b[0m\n",
                        "\u001b[0;32m/opt/conda/envs/Python-3.7-OpenCE/lib/python3.7/site-packages/pandas/core/frame.py\u001b[0m in \u001b[0;36m__getitem__\u001b[0;34m(self, key)\u001b[0m\n\u001b[1;32m   2798\u001b[0m             \u001b[0;32mif\u001b[0m \u001b[0mself\u001b[0m\u001b[0;34m.\u001b[0m\u001b[0mcolumns\u001b[0m\u001b[0;34m.\u001b[0m\u001b[0mnlevels\u001b[0m \u001b[0;34m>\u001b[0m \u001b[0;36m1\u001b[0m\u001b[0;34m:\u001b[0m\u001b[0;34m\u001b[0m\u001b[0;34m\u001b[0m\u001b[0m\n\u001b[1;32m   2799\u001b[0m                 \u001b[0;32mreturn\u001b[0m \u001b[0mself\u001b[0m\u001b[0;34m.\u001b[0m\u001b[0m_getitem_multilevel\u001b[0m\u001b[0;34m(\u001b[0m\u001b[0mkey\u001b[0m\u001b[0;34m)\u001b[0m\u001b[0;34m\u001b[0m\u001b[0;34m\u001b[0m\u001b[0m\n\u001b[0;32m-> 2800\u001b[0;31m             \u001b[0mindexer\u001b[0m \u001b[0;34m=\u001b[0m \u001b[0mself\u001b[0m\u001b[0;34m.\u001b[0m\u001b[0mcolumns\u001b[0m\u001b[0;34m.\u001b[0m\u001b[0mget_loc\u001b[0m\u001b[0;34m(\u001b[0m\u001b[0mkey\u001b[0m\u001b[0;34m)\u001b[0m\u001b[0;34m\u001b[0m\u001b[0;34m\u001b[0m\u001b[0m\n\u001b[0m\u001b[1;32m   2801\u001b[0m             \u001b[0;32mif\u001b[0m \u001b[0mis_integer\u001b[0m\u001b[0;34m(\u001b[0m\u001b[0mindexer\u001b[0m\u001b[0;34m)\u001b[0m\u001b[0;34m:\u001b[0m\u001b[0;34m\u001b[0m\u001b[0;34m\u001b[0m\u001b[0m\n\u001b[1;32m   2802\u001b[0m                 \u001b[0mindexer\u001b[0m \u001b[0;34m=\u001b[0m \u001b[0;34m[\u001b[0m\u001b[0mindexer\u001b[0m\u001b[0;34m]\u001b[0m\u001b[0;34m\u001b[0m\u001b[0;34m\u001b[0m\u001b[0m\n",
                        "\u001b[0;32m/opt/conda/envs/Python-3.7-OpenCE/lib/python3.7/site-packages/pandas/core/indexes/base.py\u001b[0m in \u001b[0;36mget_loc\u001b[0;34m(self, key, method, tolerance)\u001b[0m\n\u001b[1;32m   2646\u001b[0m                 \u001b[0;32mreturn\u001b[0m \u001b[0mself\u001b[0m\u001b[0;34m.\u001b[0m\u001b[0m_engine\u001b[0m\u001b[0;34m.\u001b[0m\u001b[0mget_loc\u001b[0m\u001b[0;34m(\u001b[0m\u001b[0mkey\u001b[0m\u001b[0;34m)\u001b[0m\u001b[0;34m\u001b[0m\u001b[0;34m\u001b[0m\u001b[0m\n\u001b[1;32m   2647\u001b[0m             \u001b[0;32mexcept\u001b[0m \u001b[0mKeyError\u001b[0m\u001b[0;34m:\u001b[0m\u001b[0;34m\u001b[0m\u001b[0;34m\u001b[0m\u001b[0m\n\u001b[0;32m-> 2648\u001b[0;31m                 \u001b[0;32mreturn\u001b[0m \u001b[0mself\u001b[0m\u001b[0;34m.\u001b[0m\u001b[0m_engine\u001b[0m\u001b[0;34m.\u001b[0m\u001b[0mget_loc\u001b[0m\u001b[0;34m(\u001b[0m\u001b[0mself\u001b[0m\u001b[0;34m.\u001b[0m\u001b[0m_maybe_cast_indexer\u001b[0m\u001b[0;34m(\u001b[0m\u001b[0mkey\u001b[0m\u001b[0;34m)\u001b[0m\u001b[0;34m)\u001b[0m\u001b[0;34m\u001b[0m\u001b[0;34m\u001b[0m\u001b[0m\n\u001b[0m\u001b[1;32m   2649\u001b[0m         \u001b[0mindexer\u001b[0m \u001b[0;34m=\u001b[0m \u001b[0mself\u001b[0m\u001b[0;34m.\u001b[0m\u001b[0mget_indexer\u001b[0m\u001b[0;34m(\u001b[0m\u001b[0;34m[\u001b[0m\u001b[0mkey\u001b[0m\u001b[0;34m]\u001b[0m\u001b[0;34m,\u001b[0m \u001b[0mmethod\u001b[0m\u001b[0;34m=\u001b[0m\u001b[0mmethod\u001b[0m\u001b[0;34m,\u001b[0m \u001b[0mtolerance\u001b[0m\u001b[0;34m=\u001b[0m\u001b[0mtolerance\u001b[0m\u001b[0;34m)\u001b[0m\u001b[0;34m\u001b[0m\u001b[0;34m\u001b[0m\u001b[0m\n\u001b[1;32m   2650\u001b[0m         \u001b[0;32mif\u001b[0m \u001b[0mindexer\u001b[0m\u001b[0;34m.\u001b[0m\u001b[0mndim\u001b[0m \u001b[0;34m>\u001b[0m \u001b[0;36m1\u001b[0m \u001b[0;32mor\u001b[0m \u001b[0mindexer\u001b[0m\u001b[0;34m.\u001b[0m\u001b[0msize\u001b[0m \u001b[0;34m>\u001b[0m \u001b[0;36m1\u001b[0m\u001b[0;34m:\u001b[0m\u001b[0;34m\u001b[0m\u001b[0;34m\u001b[0m\u001b[0m\n",
                        "\u001b[0;32mpandas/_libs/index.pyx\u001b[0m in \u001b[0;36mpandas._libs.index.IndexEngine.get_loc\u001b[0;34m()\u001b[0m\n",
                        "\u001b[0;32mpandas/_libs/index.pyx\u001b[0m in \u001b[0;36mpandas._libs.index.IndexEngine.get_loc\u001b[0;34m()\u001b[0m\n",
                        "\u001b[0;32mpandas/_libs/index_class_helper.pxi\u001b[0m in \u001b[0;36mpandas._libs.index.Int64Engine._check_type\u001b[0;34m()\u001b[0m\n",
                        "\u001b[0;31mKeyError\u001b[0m: 'Borough'"
                    ]
                }
            ]
        },
        {
            "metadata": {},
            "cell_type": "markdown",
            "source": "- More than one neighborhood can exist in one postal code area. For example, in the table on the Wikipedia page, you will notice that M5A is listed twice and has two neighborhoods: Harbourfront and Regent Park. These two rows will be combined into one row with the neighborhoods separated with a comma."
        },
        {
            "metadata": {},
            "cell_type": "code",
            "source": "df = df.groupby(['Postal Code']).head()\ndf",
            "execution_count": 6,
            "outputs": [
                {
                    "output_type": "error",
                    "ename": "KeyError",
                    "evalue": "'Postal Code'",
                    "traceback": [
                        "\u001b[0;31m---------------------------------------------------------------------------\u001b[0m",
                        "\u001b[0;31mKeyError\u001b[0m                                  Traceback (most recent call last)",
                        "\u001b[0;32m<ipython-input-6-70885b7fbfdf>\u001b[0m in \u001b[0;36m<module>\u001b[0;34m\u001b[0m\n\u001b[0;32m----> 1\u001b[0;31m \u001b[0mdf\u001b[0m \u001b[0;34m=\u001b[0m \u001b[0mdf\u001b[0m\u001b[0;34m.\u001b[0m\u001b[0mgroupby\u001b[0m\u001b[0;34m(\u001b[0m\u001b[0;34m[\u001b[0m\u001b[0;34m'Postal Code'\u001b[0m\u001b[0;34m]\u001b[0m\u001b[0;34m)\u001b[0m\u001b[0;34m.\u001b[0m\u001b[0mhead\u001b[0m\u001b[0;34m(\u001b[0m\u001b[0;34m)\u001b[0m\u001b[0;34m\u001b[0m\u001b[0;34m\u001b[0m\u001b[0m\n\u001b[0m\u001b[1;32m      2\u001b[0m \u001b[0mdf\u001b[0m\u001b[0;34m\u001b[0m\u001b[0;34m\u001b[0m\u001b[0m\n",
                        "\u001b[0;32m/opt/conda/envs/Python-3.7-OpenCE/lib/python3.7/site-packages/pandas/core/frame.py\u001b[0m in \u001b[0;36mgroupby\u001b[0;34m(self, by, axis, level, as_index, sort, group_keys, squeeze, observed)\u001b[0m\n\u001b[1;32m   5808\u001b[0m             \u001b[0mgroup_keys\u001b[0m\u001b[0;34m=\u001b[0m\u001b[0mgroup_keys\u001b[0m\u001b[0;34m,\u001b[0m\u001b[0;34m\u001b[0m\u001b[0;34m\u001b[0m\u001b[0m\n\u001b[1;32m   5809\u001b[0m             \u001b[0msqueeze\u001b[0m\u001b[0;34m=\u001b[0m\u001b[0msqueeze\u001b[0m\u001b[0;34m,\u001b[0m\u001b[0;34m\u001b[0m\u001b[0;34m\u001b[0m\u001b[0m\n\u001b[0;32m-> 5810\u001b[0;31m             \u001b[0mobserved\u001b[0m\u001b[0;34m=\u001b[0m\u001b[0mobserved\u001b[0m\u001b[0;34m,\u001b[0m\u001b[0;34m\u001b[0m\u001b[0;34m\u001b[0m\u001b[0m\n\u001b[0m\u001b[1;32m   5811\u001b[0m         )\n\u001b[1;32m   5812\u001b[0m \u001b[0;34m\u001b[0m\u001b[0m\n",
                        "\u001b[0;32m/opt/conda/envs/Python-3.7-OpenCE/lib/python3.7/site-packages/pandas/core/groupby/groupby.py\u001b[0m in \u001b[0;36m__init__\u001b[0;34m(self, obj, keys, axis, level, grouper, exclusions, selection, as_index, sort, group_keys, squeeze, observed, mutated)\u001b[0m\n\u001b[1;32m    408\u001b[0m                 \u001b[0msort\u001b[0m\u001b[0;34m=\u001b[0m\u001b[0msort\u001b[0m\u001b[0;34m,\u001b[0m\u001b[0;34m\u001b[0m\u001b[0;34m\u001b[0m\u001b[0m\n\u001b[1;32m    409\u001b[0m                 \u001b[0mobserved\u001b[0m\u001b[0;34m=\u001b[0m\u001b[0mobserved\u001b[0m\u001b[0;34m,\u001b[0m\u001b[0;34m\u001b[0m\u001b[0;34m\u001b[0m\u001b[0m\n\u001b[0;32m--> 410\u001b[0;31m                 \u001b[0mmutated\u001b[0m\u001b[0;34m=\u001b[0m\u001b[0mself\u001b[0m\u001b[0;34m.\u001b[0m\u001b[0mmutated\u001b[0m\u001b[0;34m,\u001b[0m\u001b[0;34m\u001b[0m\u001b[0;34m\u001b[0m\u001b[0m\n\u001b[0m\u001b[1;32m    411\u001b[0m             )\n\u001b[1;32m    412\u001b[0m \u001b[0;34m\u001b[0m\u001b[0m\n",
                        "\u001b[0;32m/opt/conda/envs/Python-3.7-OpenCE/lib/python3.7/site-packages/pandas/core/groupby/grouper.py\u001b[0m in \u001b[0;36mget_grouper\u001b[0;34m(obj, key, axis, level, sort, observed, mutated, validate)\u001b[0m\n\u001b[1;32m    598\u001b[0m                 \u001b[0min_axis\u001b[0m\u001b[0;34m,\u001b[0m \u001b[0mname\u001b[0m\u001b[0;34m,\u001b[0m \u001b[0mlevel\u001b[0m\u001b[0;34m,\u001b[0m \u001b[0mgpr\u001b[0m \u001b[0;34m=\u001b[0m \u001b[0;32mFalse\u001b[0m\u001b[0;34m,\u001b[0m \u001b[0;32mNone\u001b[0m\u001b[0;34m,\u001b[0m \u001b[0mgpr\u001b[0m\u001b[0;34m,\u001b[0m \u001b[0;32mNone\u001b[0m\u001b[0;34m\u001b[0m\u001b[0;34m\u001b[0m\u001b[0m\n\u001b[1;32m    599\u001b[0m             \u001b[0;32melse\u001b[0m\u001b[0;34m:\u001b[0m\u001b[0;34m\u001b[0m\u001b[0;34m\u001b[0m\u001b[0m\n\u001b[0;32m--> 600\u001b[0;31m                 \u001b[0;32mraise\u001b[0m \u001b[0mKeyError\u001b[0m\u001b[0;34m(\u001b[0m\u001b[0mgpr\u001b[0m\u001b[0;34m)\u001b[0m\u001b[0;34m\u001b[0m\u001b[0;34m\u001b[0m\u001b[0m\n\u001b[0m\u001b[1;32m    601\u001b[0m         \u001b[0;32melif\u001b[0m \u001b[0misinstance\u001b[0m\u001b[0;34m(\u001b[0m\u001b[0mgpr\u001b[0m\u001b[0;34m,\u001b[0m \u001b[0mGrouper\u001b[0m\u001b[0;34m)\u001b[0m \u001b[0;32mand\u001b[0m \u001b[0mgpr\u001b[0m\u001b[0;34m.\u001b[0m\u001b[0mkey\u001b[0m \u001b[0;32mis\u001b[0m \u001b[0;32mnot\u001b[0m \u001b[0;32mNone\u001b[0m\u001b[0;34m:\u001b[0m\u001b[0;34m\u001b[0m\u001b[0;34m\u001b[0m\u001b[0m\n\u001b[1;32m    602\u001b[0m             \u001b[0;31m# Add key to exclusions\u001b[0m\u001b[0;34m\u001b[0m\u001b[0;34m\u001b[0m\u001b[0;34m\u001b[0m\u001b[0m\n",
                        "\u001b[0;31mKeyError\u001b[0m: 'Postal Code'"
                    ]
                }
            ]
        },
        {
            "metadata": {},
            "cell_type": "markdown",
            "source": "- If a cell has a borough but a Not assigned neighborhood, then the neighborhood will be the same as the borough.\n"
        },
        {
            "metadata": {},
            "cell_type": "code",
            "source": "df.Neighbourhood.str.count(\"Not assigned\").sum()",
            "execution_count": 7,
            "outputs": [
                {
                    "output_type": "error",
                    "ename": "AttributeError",
                    "evalue": "'DataFrame' object has no attribute 'Neighbourhood'",
                    "traceback": [
                        "\u001b[0;31m---------------------------------------------------------------------------\u001b[0m",
                        "\u001b[0;31mAttributeError\u001b[0m                            Traceback (most recent call last)",
                        "\u001b[0;32m<ipython-input-7-90e77e2229b1>\u001b[0m in \u001b[0;36m<module>\u001b[0;34m\u001b[0m\n\u001b[0;32m----> 1\u001b[0;31m \u001b[0mdf\u001b[0m\u001b[0;34m.\u001b[0m\u001b[0mNeighbourhood\u001b[0m\u001b[0;34m.\u001b[0m\u001b[0mstr\u001b[0m\u001b[0;34m.\u001b[0m\u001b[0mcount\u001b[0m\u001b[0;34m(\u001b[0m\u001b[0;34m\"Not assigned\"\u001b[0m\u001b[0;34m)\u001b[0m\u001b[0;34m.\u001b[0m\u001b[0msum\u001b[0m\u001b[0;34m(\u001b[0m\u001b[0;34m)\u001b[0m\u001b[0;34m\u001b[0m\u001b[0;34m\u001b[0m\u001b[0m\n\u001b[0m",
                        "\u001b[0;32m/opt/conda/envs/Python-3.7-OpenCE/lib/python3.7/site-packages/pandas/core/generic.py\u001b[0m in \u001b[0;36m__getattr__\u001b[0;34m(self, name)\u001b[0m\n\u001b[1;32m   5272\u001b[0m             \u001b[0;32mif\u001b[0m \u001b[0mself\u001b[0m\u001b[0;34m.\u001b[0m\u001b[0m_info_axis\u001b[0m\u001b[0;34m.\u001b[0m\u001b[0m_can_hold_identifiers_and_holds_name\u001b[0m\u001b[0;34m(\u001b[0m\u001b[0mname\u001b[0m\u001b[0;34m)\u001b[0m\u001b[0;34m:\u001b[0m\u001b[0;34m\u001b[0m\u001b[0;34m\u001b[0m\u001b[0m\n\u001b[1;32m   5273\u001b[0m                 \u001b[0;32mreturn\u001b[0m \u001b[0mself\u001b[0m\u001b[0;34m[\u001b[0m\u001b[0mname\u001b[0m\u001b[0;34m]\u001b[0m\u001b[0;34m\u001b[0m\u001b[0;34m\u001b[0m\u001b[0m\n\u001b[0;32m-> 5274\u001b[0;31m             \u001b[0;32mreturn\u001b[0m \u001b[0mobject\u001b[0m\u001b[0;34m.\u001b[0m\u001b[0m__getattribute__\u001b[0m\u001b[0;34m(\u001b[0m\u001b[0mself\u001b[0m\u001b[0;34m,\u001b[0m \u001b[0mname\u001b[0m\u001b[0;34m)\u001b[0m\u001b[0;34m\u001b[0m\u001b[0;34m\u001b[0m\u001b[0m\n\u001b[0m\u001b[1;32m   5275\u001b[0m \u001b[0;34m\u001b[0m\u001b[0m\n\u001b[1;32m   5276\u001b[0m     \u001b[0;32mdef\u001b[0m \u001b[0m__setattr__\u001b[0m\u001b[0;34m(\u001b[0m\u001b[0mself\u001b[0m\u001b[0;34m,\u001b[0m \u001b[0mname\u001b[0m\u001b[0;34m:\u001b[0m \u001b[0mstr\u001b[0m\u001b[0;34m,\u001b[0m \u001b[0mvalue\u001b[0m\u001b[0;34m)\u001b[0m \u001b[0;34m->\u001b[0m \u001b[0;32mNone\u001b[0m\u001b[0;34m:\u001b[0m\u001b[0;34m\u001b[0m\u001b[0;34m\u001b[0m\u001b[0m\n",
                        "\u001b[0;31mAttributeError\u001b[0m: 'DataFrame' object has no attribute 'Neighbourhood'"
                    ]
                }
            ]
        },
        {
            "metadata": {},
            "cell_type": "markdown",
            "source": "- In the last cell of your notebook, use the .shape method to print the number of rows of your dataframe"
        },
        {
            "metadata": {},
            "cell_type": "code",
            "source": "df.shape\n",
            "execution_count": 8,
            "outputs": [
                {
                    "output_type": "execute_result",
                    "execution_count": 8,
                    "data": {
                        "text/plain": "(20, 9)"
                    },
                    "metadata": {}
                }
            ]
        },
        {
            "metadata": {},
            "cell_type": "markdown",
            "source": "# Part 2"
        },
        {
            "metadata": {},
            "cell_type": "markdown",
            "source": "- Explore and cluster the neighborhoods in Toronto. You can decide to work with only boroughs that contain the word Toronto and then replicate the same analysis we did to the New York City data. It is up to you.\n\n"
        },
        {
            "metadata": {},
            "cell_type": "code",
            "source": "dfg = pd.read_csv(\"https://cocl.us/Geospatial_data\")\ndfg",
            "execution_count": 9,
            "outputs": [
                {
                    "output_type": "execute_result",
                    "execution_count": 9,
                    "data": {
                        "text/plain": "    Postal Code   Latitude  Longitude\n0           M1B  43.806686 -79.194353\n1           M1C  43.784535 -79.160497\n2           M1E  43.763573 -79.188711\n3           M1G  43.770992 -79.216917\n4           M1H  43.773136 -79.239476\n5           M1J  43.744734 -79.239476\n6           M1K  43.727929 -79.262029\n7           M1L  43.711112 -79.284577\n8           M1M  43.716316 -79.239476\n9           M1N  43.692657 -79.264848\n10          M1P  43.757410 -79.273304\n11          M1R  43.750072 -79.295849\n12          M1S  43.794200 -79.262029\n13          M1T  43.781638 -79.304302\n14          M1V  43.815252 -79.284577\n15          M1W  43.799525 -79.318389\n16          M1X  43.836125 -79.205636\n17          M2H  43.803762 -79.363452\n18          M2J  43.778517 -79.346556\n19          M2K  43.786947 -79.385975\n20          M2L  43.757490 -79.374714\n21          M2M  43.789053 -79.408493\n22          M2N  43.770120 -79.408493\n23          M2P  43.752758 -79.400049\n24          M2R  43.782736 -79.442259\n25          M3A  43.753259 -79.329656\n26          M3B  43.745906 -79.352188\n27          M3C  43.725900 -79.340923\n28          M3H  43.754328 -79.442259\n29          M3J  43.767980 -79.487262\n30          M3K  43.737473 -79.464763\n31          M3L  43.739015 -79.506944\n32          M3M  43.728496 -79.495697\n33          M3N  43.761631 -79.520999\n34          M4A  43.725882 -79.315572\n35          M4B  43.706397 -79.309937\n36          M4C  43.695344 -79.318389\n37          M4E  43.676357 -79.293031\n38          M4G  43.709060 -79.363452\n39          M4H  43.705369 -79.349372\n40          M4J  43.685347 -79.338106\n41          M4K  43.679557 -79.352188\n42          M4L  43.668999 -79.315572\n43          M4M  43.659526 -79.340923\n44          M4N  43.728020 -79.388790\n45          M4P  43.712751 -79.390197\n46          M4R  43.715383 -79.405678\n47          M4S  43.704324 -79.388790\n48          M4T  43.689574 -79.383160\n49          M4V  43.686412 -79.400049\n50          M4W  43.679563 -79.377529\n51          M4X  43.667967 -79.367675\n52          M4Y  43.665860 -79.383160\n53          M5A  43.654260 -79.360636\n54          M5B  43.657162 -79.378937\n55          M5C  43.651494 -79.375418\n56          M5E  43.644771 -79.373306\n57          M5G  43.657952 -79.387383\n58          M5H  43.650571 -79.384568\n59          M5J  43.640816 -79.381752\n60          M5K  43.647177 -79.381576\n61          M5L  43.648198 -79.379817\n62          M5M  43.733283 -79.419750\n63          M5N  43.711695 -79.416936\n64          M5P  43.696948 -79.411307\n65          M5R  43.672710 -79.405678\n66          M5S  43.662696 -79.400049\n67          M5T  43.653206 -79.400049\n68          M5V  43.628947 -79.394420\n69          M5W  43.646435 -79.374846\n70          M5X  43.648429 -79.382280\n71          M6A  43.718518 -79.464763\n72          M6B  43.709577 -79.445073\n73          M6C  43.693781 -79.428191\n74          M6E  43.689026 -79.453512\n75          M6G  43.669542 -79.422564\n76          M6H  43.669005 -79.442259\n77          M6J  43.647927 -79.419750\n78          M6K  43.636847 -79.428191\n79          M6L  43.713756 -79.490074\n80          M6M  43.691116 -79.476013\n81          M6N  43.673185 -79.487262\n82          M6P  43.661608 -79.464763\n83          M6R  43.648960 -79.456325\n84          M6S  43.651571 -79.484450\n85          M7A  43.662301 -79.389494\n86          M7R  43.636966 -79.615819\n87          M7Y  43.662744 -79.321558\n88          M8V  43.605647 -79.501321\n89          M8W  43.602414 -79.543484\n90          M8X  43.653654 -79.506944\n91          M8Y  43.636258 -79.498509\n92          M8Z  43.628841 -79.520999\n93          M9A  43.667856 -79.532242\n94          M9B  43.650943 -79.554724\n95          M9C  43.643515 -79.577201\n96          M9L  43.756303 -79.565963\n97          M9M  43.724766 -79.532242\n98          M9N  43.706876 -79.518188\n99          M9P  43.696319 -79.532242\n100         M9R  43.688905 -79.554724\n101         M9V  43.739416 -79.588437\n102         M9W  43.706748 -79.594054",
                        "text/html": "<div>\n<style scoped>\n    .dataframe tbody tr th:only-of-type {\n        vertical-align: middle;\n    }\n\n    .dataframe tbody tr th {\n        vertical-align: top;\n    }\n\n    .dataframe thead th {\n        text-align: right;\n    }\n</style>\n<table border=\"1\" class=\"dataframe\">\n  <thead>\n    <tr style=\"text-align: right;\">\n      <th></th>\n      <th>Postal Code</th>\n      <th>Latitude</th>\n      <th>Longitude</th>\n    </tr>\n  </thead>\n  <tbody>\n    <tr>\n      <th>0</th>\n      <td>M1B</td>\n      <td>43.806686</td>\n      <td>-79.194353</td>\n    </tr>\n    <tr>\n      <th>1</th>\n      <td>M1C</td>\n      <td>43.784535</td>\n      <td>-79.160497</td>\n    </tr>\n    <tr>\n      <th>2</th>\n      <td>M1E</td>\n      <td>43.763573</td>\n      <td>-79.188711</td>\n    </tr>\n    <tr>\n      <th>3</th>\n      <td>M1G</td>\n      <td>43.770992</td>\n      <td>-79.216917</td>\n    </tr>\n    <tr>\n      <th>4</th>\n      <td>M1H</td>\n      <td>43.773136</td>\n      <td>-79.239476</td>\n    </tr>\n    <tr>\n      <th>5</th>\n      <td>M1J</td>\n      <td>43.744734</td>\n      <td>-79.239476</td>\n    </tr>\n    <tr>\n      <th>6</th>\n      <td>M1K</td>\n      <td>43.727929</td>\n      <td>-79.262029</td>\n    </tr>\n    <tr>\n      <th>7</th>\n      <td>M1L</td>\n      <td>43.711112</td>\n      <td>-79.284577</td>\n    </tr>\n    <tr>\n      <th>8</th>\n      <td>M1M</td>\n      <td>43.716316</td>\n      <td>-79.239476</td>\n    </tr>\n    <tr>\n      <th>9</th>\n      <td>M1N</td>\n      <td>43.692657</td>\n      <td>-79.264848</td>\n    </tr>\n    <tr>\n      <th>10</th>\n      <td>M1P</td>\n      <td>43.757410</td>\n      <td>-79.273304</td>\n    </tr>\n    <tr>\n      <th>11</th>\n      <td>M1R</td>\n      <td>43.750072</td>\n      <td>-79.295849</td>\n    </tr>\n    <tr>\n      <th>12</th>\n      <td>M1S</td>\n      <td>43.794200</td>\n      <td>-79.262029</td>\n    </tr>\n    <tr>\n      <th>13</th>\n      <td>M1T</td>\n      <td>43.781638</td>\n      <td>-79.304302</td>\n    </tr>\n    <tr>\n      <th>14</th>\n      <td>M1V</td>\n      <td>43.815252</td>\n      <td>-79.284577</td>\n    </tr>\n    <tr>\n      <th>15</th>\n      <td>M1W</td>\n      <td>43.799525</td>\n      <td>-79.318389</td>\n    </tr>\n    <tr>\n      <th>16</th>\n      <td>M1X</td>\n      <td>43.836125</td>\n      <td>-79.205636</td>\n    </tr>\n    <tr>\n      <th>17</th>\n      <td>M2H</td>\n      <td>43.803762</td>\n      <td>-79.363452</td>\n    </tr>\n    <tr>\n      <th>18</th>\n      <td>M2J</td>\n      <td>43.778517</td>\n      <td>-79.346556</td>\n    </tr>\n    <tr>\n      <th>19</th>\n      <td>M2K</td>\n      <td>43.786947</td>\n      <td>-79.385975</td>\n    </tr>\n    <tr>\n      <th>20</th>\n      <td>M2L</td>\n      <td>43.757490</td>\n      <td>-79.374714</td>\n    </tr>\n    <tr>\n      <th>21</th>\n      <td>M2M</td>\n      <td>43.789053</td>\n      <td>-79.408493</td>\n    </tr>\n    <tr>\n      <th>22</th>\n      <td>M2N</td>\n      <td>43.770120</td>\n      <td>-79.408493</td>\n    </tr>\n    <tr>\n      <th>23</th>\n      <td>M2P</td>\n      <td>43.752758</td>\n      <td>-79.400049</td>\n    </tr>\n    <tr>\n      <th>24</th>\n      <td>M2R</td>\n      <td>43.782736</td>\n      <td>-79.442259</td>\n    </tr>\n    <tr>\n      <th>25</th>\n      <td>M3A</td>\n      <td>43.753259</td>\n      <td>-79.329656</td>\n    </tr>\n    <tr>\n      <th>26</th>\n      <td>M3B</td>\n      <td>43.745906</td>\n      <td>-79.352188</td>\n    </tr>\n    <tr>\n      <th>27</th>\n      <td>M3C</td>\n      <td>43.725900</td>\n      <td>-79.340923</td>\n    </tr>\n    <tr>\n      <th>28</th>\n      <td>M3H</td>\n      <td>43.754328</td>\n      <td>-79.442259</td>\n    </tr>\n    <tr>\n      <th>29</th>\n      <td>M3J</td>\n      <td>43.767980</td>\n      <td>-79.487262</td>\n    </tr>\n    <tr>\n      <th>30</th>\n      <td>M3K</td>\n      <td>43.737473</td>\n      <td>-79.464763</td>\n    </tr>\n    <tr>\n      <th>31</th>\n      <td>M3L</td>\n      <td>43.739015</td>\n      <td>-79.506944</td>\n    </tr>\n    <tr>\n      <th>32</th>\n      <td>M3M</td>\n      <td>43.728496</td>\n      <td>-79.495697</td>\n    </tr>\n    <tr>\n      <th>33</th>\n      <td>M3N</td>\n      <td>43.761631</td>\n      <td>-79.520999</td>\n    </tr>\n    <tr>\n      <th>34</th>\n      <td>M4A</td>\n      <td>43.725882</td>\n      <td>-79.315572</td>\n    </tr>\n    <tr>\n      <th>35</th>\n      <td>M4B</td>\n      <td>43.706397</td>\n      <td>-79.309937</td>\n    </tr>\n    <tr>\n      <th>36</th>\n      <td>M4C</td>\n      <td>43.695344</td>\n      <td>-79.318389</td>\n    </tr>\n    <tr>\n      <th>37</th>\n      <td>M4E</td>\n      <td>43.676357</td>\n      <td>-79.293031</td>\n    </tr>\n    <tr>\n      <th>38</th>\n      <td>M4G</td>\n      <td>43.709060</td>\n      <td>-79.363452</td>\n    </tr>\n    <tr>\n      <th>39</th>\n      <td>M4H</td>\n      <td>43.705369</td>\n      <td>-79.349372</td>\n    </tr>\n    <tr>\n      <th>40</th>\n      <td>M4J</td>\n      <td>43.685347</td>\n      <td>-79.338106</td>\n    </tr>\n    <tr>\n      <th>41</th>\n      <td>M4K</td>\n      <td>43.679557</td>\n      <td>-79.352188</td>\n    </tr>\n    <tr>\n      <th>42</th>\n      <td>M4L</td>\n      <td>43.668999</td>\n      <td>-79.315572</td>\n    </tr>\n    <tr>\n      <th>43</th>\n      <td>M4M</td>\n      <td>43.659526</td>\n      <td>-79.340923</td>\n    </tr>\n    <tr>\n      <th>44</th>\n      <td>M4N</td>\n      <td>43.728020</td>\n      <td>-79.388790</td>\n    </tr>\n    <tr>\n      <th>45</th>\n      <td>M4P</td>\n      <td>43.712751</td>\n      <td>-79.390197</td>\n    </tr>\n    <tr>\n      <th>46</th>\n      <td>M4R</td>\n      <td>43.715383</td>\n      <td>-79.405678</td>\n    </tr>\n    <tr>\n      <th>47</th>\n      <td>M4S</td>\n      <td>43.704324</td>\n      <td>-79.388790</td>\n    </tr>\n    <tr>\n      <th>48</th>\n      <td>M4T</td>\n      <td>43.689574</td>\n      <td>-79.383160</td>\n    </tr>\n    <tr>\n      <th>49</th>\n      <td>M4V</td>\n      <td>43.686412</td>\n      <td>-79.400049</td>\n    </tr>\n    <tr>\n      <th>50</th>\n      <td>M4W</td>\n      <td>43.679563</td>\n      <td>-79.377529</td>\n    </tr>\n    <tr>\n      <th>51</th>\n      <td>M4X</td>\n      <td>43.667967</td>\n      <td>-79.367675</td>\n    </tr>\n    <tr>\n      <th>52</th>\n      <td>M4Y</td>\n      <td>43.665860</td>\n      <td>-79.383160</td>\n    </tr>\n    <tr>\n      <th>53</th>\n      <td>M5A</td>\n      <td>43.654260</td>\n      <td>-79.360636</td>\n    </tr>\n    <tr>\n      <th>54</th>\n      <td>M5B</td>\n      <td>43.657162</td>\n      <td>-79.378937</td>\n    </tr>\n    <tr>\n      <th>55</th>\n      <td>M5C</td>\n      <td>43.651494</td>\n      <td>-79.375418</td>\n    </tr>\n    <tr>\n      <th>56</th>\n      <td>M5E</td>\n      <td>43.644771</td>\n      <td>-79.373306</td>\n    </tr>\n    <tr>\n      <th>57</th>\n      <td>M5G</td>\n      <td>43.657952</td>\n      <td>-79.387383</td>\n    </tr>\n    <tr>\n      <th>58</th>\n      <td>M5H</td>\n      <td>43.650571</td>\n      <td>-79.384568</td>\n    </tr>\n    <tr>\n      <th>59</th>\n      <td>M5J</td>\n      <td>43.640816</td>\n      <td>-79.381752</td>\n    </tr>\n    <tr>\n      <th>60</th>\n      <td>M5K</td>\n      <td>43.647177</td>\n      <td>-79.381576</td>\n    </tr>\n    <tr>\n      <th>61</th>\n      <td>M5L</td>\n      <td>43.648198</td>\n      <td>-79.379817</td>\n    </tr>\n    <tr>\n      <th>62</th>\n      <td>M5M</td>\n      <td>43.733283</td>\n      <td>-79.419750</td>\n    </tr>\n    <tr>\n      <th>63</th>\n      <td>M5N</td>\n      <td>43.711695</td>\n      <td>-79.416936</td>\n    </tr>\n    <tr>\n      <th>64</th>\n      <td>M5P</td>\n      <td>43.696948</td>\n      <td>-79.411307</td>\n    </tr>\n    <tr>\n      <th>65</th>\n      <td>M5R</td>\n      <td>43.672710</td>\n      <td>-79.405678</td>\n    </tr>\n    <tr>\n      <th>66</th>\n      <td>M5S</td>\n      <td>43.662696</td>\n      <td>-79.400049</td>\n    </tr>\n    <tr>\n      <th>67</th>\n      <td>M5T</td>\n      <td>43.653206</td>\n      <td>-79.400049</td>\n    </tr>\n    <tr>\n      <th>68</th>\n      <td>M5V</td>\n      <td>43.628947</td>\n      <td>-79.394420</td>\n    </tr>\n    <tr>\n      <th>69</th>\n      <td>M5W</td>\n      <td>43.646435</td>\n      <td>-79.374846</td>\n    </tr>\n    <tr>\n      <th>70</th>\n      <td>M5X</td>\n      <td>43.648429</td>\n      <td>-79.382280</td>\n    </tr>\n    <tr>\n      <th>71</th>\n      <td>M6A</td>\n      <td>43.718518</td>\n      <td>-79.464763</td>\n    </tr>\n    <tr>\n      <th>72</th>\n      <td>M6B</td>\n      <td>43.709577</td>\n      <td>-79.445073</td>\n    </tr>\n    <tr>\n      <th>73</th>\n      <td>M6C</td>\n      <td>43.693781</td>\n      <td>-79.428191</td>\n    </tr>\n    <tr>\n      <th>74</th>\n      <td>M6E</td>\n      <td>43.689026</td>\n      <td>-79.453512</td>\n    </tr>\n    <tr>\n      <th>75</th>\n      <td>M6G</td>\n      <td>43.669542</td>\n      <td>-79.422564</td>\n    </tr>\n    <tr>\n      <th>76</th>\n      <td>M6H</td>\n      <td>43.669005</td>\n      <td>-79.442259</td>\n    </tr>\n    <tr>\n      <th>77</th>\n      <td>M6J</td>\n      <td>43.647927</td>\n      <td>-79.419750</td>\n    </tr>\n    <tr>\n      <th>78</th>\n      <td>M6K</td>\n      <td>43.636847</td>\n      <td>-79.428191</td>\n    </tr>\n    <tr>\n      <th>79</th>\n      <td>M6L</td>\n      <td>43.713756</td>\n      <td>-79.490074</td>\n    </tr>\n    <tr>\n      <th>80</th>\n      <td>M6M</td>\n      <td>43.691116</td>\n      <td>-79.476013</td>\n    </tr>\n    <tr>\n      <th>81</th>\n      <td>M6N</td>\n      <td>43.673185</td>\n      <td>-79.487262</td>\n    </tr>\n    <tr>\n      <th>82</th>\n      <td>M6P</td>\n      <td>43.661608</td>\n      <td>-79.464763</td>\n    </tr>\n    <tr>\n      <th>83</th>\n      <td>M6R</td>\n      <td>43.648960</td>\n      <td>-79.456325</td>\n    </tr>\n    <tr>\n      <th>84</th>\n      <td>M6S</td>\n      <td>43.651571</td>\n      <td>-79.484450</td>\n    </tr>\n    <tr>\n      <th>85</th>\n      <td>M7A</td>\n      <td>43.662301</td>\n      <td>-79.389494</td>\n    </tr>\n    <tr>\n      <th>86</th>\n      <td>M7R</td>\n      <td>43.636966</td>\n      <td>-79.615819</td>\n    </tr>\n    <tr>\n      <th>87</th>\n      <td>M7Y</td>\n      <td>43.662744</td>\n      <td>-79.321558</td>\n    </tr>\n    <tr>\n      <th>88</th>\n      <td>M8V</td>\n      <td>43.605647</td>\n      <td>-79.501321</td>\n    </tr>\n    <tr>\n      <th>89</th>\n      <td>M8W</td>\n      <td>43.602414</td>\n      <td>-79.543484</td>\n    </tr>\n    <tr>\n      <th>90</th>\n      <td>M8X</td>\n      <td>43.653654</td>\n      <td>-79.506944</td>\n    </tr>\n    <tr>\n      <th>91</th>\n      <td>M8Y</td>\n      <td>43.636258</td>\n      <td>-79.498509</td>\n    </tr>\n    <tr>\n      <th>92</th>\n      <td>M8Z</td>\n      <td>43.628841</td>\n      <td>-79.520999</td>\n    </tr>\n    <tr>\n      <th>93</th>\n      <td>M9A</td>\n      <td>43.667856</td>\n      <td>-79.532242</td>\n    </tr>\n    <tr>\n      <th>94</th>\n      <td>M9B</td>\n      <td>43.650943</td>\n      <td>-79.554724</td>\n    </tr>\n    <tr>\n      <th>95</th>\n      <td>M9C</td>\n      <td>43.643515</td>\n      <td>-79.577201</td>\n    </tr>\n    <tr>\n      <th>96</th>\n      <td>M9L</td>\n      <td>43.756303</td>\n      <td>-79.565963</td>\n    </tr>\n    <tr>\n      <th>97</th>\n      <td>M9M</td>\n      <td>43.724766</td>\n      <td>-79.532242</td>\n    </tr>\n    <tr>\n      <th>98</th>\n      <td>M9N</td>\n      <td>43.706876</td>\n      <td>-79.518188</td>\n    </tr>\n    <tr>\n      <th>99</th>\n      <td>M9P</td>\n      <td>43.696319</td>\n      <td>-79.532242</td>\n    </tr>\n    <tr>\n      <th>100</th>\n      <td>M9R</td>\n      <td>43.688905</td>\n      <td>-79.554724</td>\n    </tr>\n    <tr>\n      <th>101</th>\n      <td>M9V</td>\n      <td>43.739416</td>\n      <td>-79.588437</td>\n    </tr>\n    <tr>\n      <th>102</th>\n      <td>M9W</td>\n      <td>43.706748</td>\n      <td>-79.594054</td>\n    </tr>\n  </tbody>\n</table>\n</div>"
                    },
                    "metadata": {}
                }
            ]
        },
        {
            "metadata": {},
            "cell_type": "code",
            "source": "print(\"wiki data shape: \", df.shape)\nprint(\"geospatial data shape: \", dfg.shape)\n",
            "execution_count": 10,
            "outputs": [
                {
                    "output_type": "stream",
                    "text": "wiki data shape:  (20, 9)\ngeospatial data shape:  (103, 3)\n",
                    "name": "stdout"
                }
            ]
        },
        {
            "metadata": {},
            "cell_type": "markdown",
            "source": "- Checking the data types and inner join the two (Wiki and Geospatial) dataframes "
        },
        {
            "metadata": {},
            "cell_type": "code",
            "source": "df.dtypes",
            "execution_count": 11,
            "outputs": [
                {
                    "output_type": "execute_result",
                    "execution_count": 11,
                    "data": {
                        "text/plain": "0    object\n1    object\n2    object\n3    object\n4    object\n5    object\n6    object\n7    object\n8    object\ndtype: object"
                    },
                    "metadata": {}
                }
            ]
        },
        {
            "metadata": {},
            "cell_type": "code",
            "source": "dfg.dtypes",
            "execution_count": 12,
            "outputs": [
                {
                    "output_type": "execute_result",
                    "execution_count": 12,
                    "data": {
                        "text/plain": "Postal Code     object\nLatitude       float64\nLongitude      float64\ndtype: object"
                    },
                    "metadata": {}
                }
            ]
        },
        {
            "metadata": {},
            "cell_type": "code",
            "source": "cdf = df.join(dfg.set_index('Postal Code'), on='Postal Code', how='inner')\ncdf",
            "execution_count": 13,
            "outputs": [
                {
                    "output_type": "error",
                    "ename": "KeyError",
                    "evalue": "'Postal Code'",
                    "traceback": [
                        "\u001b[0;31m---------------------------------------------------------------------------\u001b[0m",
                        "\u001b[0;31mKeyError\u001b[0m                                  Traceback (most recent call last)",
                        "\u001b[0;32m<ipython-input-13-8a0d51a9e2e1>\u001b[0m in \u001b[0;36m<module>\u001b[0;34m\u001b[0m\n\u001b[0;32m----> 1\u001b[0;31m \u001b[0mcdf\u001b[0m \u001b[0;34m=\u001b[0m \u001b[0mdf\u001b[0m\u001b[0;34m.\u001b[0m\u001b[0mjoin\u001b[0m\u001b[0;34m(\u001b[0m\u001b[0mdfg\u001b[0m\u001b[0;34m.\u001b[0m\u001b[0mset_index\u001b[0m\u001b[0;34m(\u001b[0m\u001b[0;34m'Postal Code'\u001b[0m\u001b[0;34m)\u001b[0m\u001b[0;34m,\u001b[0m \u001b[0mon\u001b[0m\u001b[0;34m=\u001b[0m\u001b[0;34m'Postal Code'\u001b[0m\u001b[0;34m,\u001b[0m \u001b[0mhow\u001b[0m\u001b[0;34m=\u001b[0m\u001b[0;34m'inner'\u001b[0m\u001b[0;34m)\u001b[0m\u001b[0;34m\u001b[0m\u001b[0;34m\u001b[0m\u001b[0m\n\u001b[0m\u001b[1;32m      2\u001b[0m \u001b[0mcdf\u001b[0m\u001b[0;34m\u001b[0m\u001b[0;34m\u001b[0m\u001b[0m\n",
                        "\u001b[0;32m/opt/conda/envs/Python-3.7-OpenCE/lib/python3.7/site-packages/pandas/core/frame.py\u001b[0m in \u001b[0;36mjoin\u001b[0;34m(self, other, on, how, lsuffix, rsuffix, sort)\u001b[0m\n\u001b[1;32m   7207\u001b[0m         \"\"\"\n\u001b[1;32m   7208\u001b[0m         return self._join_compat(\n\u001b[0;32m-> 7209\u001b[0;31m             \u001b[0mother\u001b[0m\u001b[0;34m,\u001b[0m \u001b[0mon\u001b[0m\u001b[0;34m=\u001b[0m\u001b[0mon\u001b[0m\u001b[0;34m,\u001b[0m \u001b[0mhow\u001b[0m\u001b[0;34m=\u001b[0m\u001b[0mhow\u001b[0m\u001b[0;34m,\u001b[0m \u001b[0mlsuffix\u001b[0m\u001b[0;34m=\u001b[0m\u001b[0mlsuffix\u001b[0m\u001b[0;34m,\u001b[0m \u001b[0mrsuffix\u001b[0m\u001b[0;34m=\u001b[0m\u001b[0mrsuffix\u001b[0m\u001b[0;34m,\u001b[0m \u001b[0msort\u001b[0m\u001b[0;34m=\u001b[0m\u001b[0msort\u001b[0m\u001b[0;34m\u001b[0m\u001b[0;34m\u001b[0m\u001b[0m\n\u001b[0m\u001b[1;32m   7210\u001b[0m         )\n\u001b[1;32m   7211\u001b[0m \u001b[0;34m\u001b[0m\u001b[0m\n",
                        "\u001b[0;32m/opt/conda/envs/Python-3.7-OpenCE/lib/python3.7/site-packages/pandas/core/frame.py\u001b[0m in \u001b[0;36m_join_compat\u001b[0;34m(self, other, on, how, lsuffix, rsuffix, sort)\u001b[0m\n\u001b[1;32m   7230\u001b[0m                 \u001b[0mright_index\u001b[0m\u001b[0;34m=\u001b[0m\u001b[0;32mTrue\u001b[0m\u001b[0;34m,\u001b[0m\u001b[0;34m\u001b[0m\u001b[0;34m\u001b[0m\u001b[0m\n\u001b[1;32m   7231\u001b[0m                 \u001b[0msuffixes\u001b[0m\u001b[0;34m=\u001b[0m\u001b[0;34m(\u001b[0m\u001b[0mlsuffix\u001b[0m\u001b[0;34m,\u001b[0m \u001b[0mrsuffix\u001b[0m\u001b[0;34m)\u001b[0m\u001b[0;34m,\u001b[0m\u001b[0;34m\u001b[0m\u001b[0;34m\u001b[0m\u001b[0m\n\u001b[0;32m-> 7232\u001b[0;31m                 \u001b[0msort\u001b[0m\u001b[0;34m=\u001b[0m\u001b[0msort\u001b[0m\u001b[0;34m,\u001b[0m\u001b[0;34m\u001b[0m\u001b[0;34m\u001b[0m\u001b[0m\n\u001b[0m\u001b[1;32m   7233\u001b[0m             )\n\u001b[1;32m   7234\u001b[0m         \u001b[0;32melse\u001b[0m\u001b[0;34m:\u001b[0m\u001b[0;34m\u001b[0m\u001b[0;34m\u001b[0m\u001b[0m\n",
                        "\u001b[0;32m/opt/conda/envs/Python-3.7-OpenCE/lib/python3.7/site-packages/pandas/core/reshape/merge.py\u001b[0m in \u001b[0;36mmerge\u001b[0;34m(left, right, how, on, left_on, right_on, left_index, right_index, sort, suffixes, copy, indicator, validate)\u001b[0m\n\u001b[1;32m     84\u001b[0m         \u001b[0mcopy\u001b[0m\u001b[0;34m=\u001b[0m\u001b[0mcopy\u001b[0m\u001b[0;34m,\u001b[0m\u001b[0;34m\u001b[0m\u001b[0;34m\u001b[0m\u001b[0m\n\u001b[1;32m     85\u001b[0m         \u001b[0mindicator\u001b[0m\u001b[0;34m=\u001b[0m\u001b[0mindicator\u001b[0m\u001b[0;34m,\u001b[0m\u001b[0;34m\u001b[0m\u001b[0;34m\u001b[0m\u001b[0m\n\u001b[0;32m---> 86\u001b[0;31m         \u001b[0mvalidate\u001b[0m\u001b[0;34m=\u001b[0m\u001b[0mvalidate\u001b[0m\u001b[0;34m,\u001b[0m\u001b[0;34m\u001b[0m\u001b[0;34m\u001b[0m\u001b[0m\n\u001b[0m\u001b[1;32m     87\u001b[0m     )\n\u001b[1;32m     88\u001b[0m     \u001b[0;32mreturn\u001b[0m \u001b[0mop\u001b[0m\u001b[0;34m.\u001b[0m\u001b[0mget_result\u001b[0m\u001b[0;34m(\u001b[0m\u001b[0;34m)\u001b[0m\u001b[0;34m\u001b[0m\u001b[0;34m\u001b[0m\u001b[0m\n",
                        "\u001b[0;32m/opt/conda/envs/Python-3.7-OpenCE/lib/python3.7/site-packages/pandas/core/reshape/merge.py\u001b[0m in \u001b[0;36m__init__\u001b[0;34m(self, left, right, how, on, left_on, right_on, axis, left_index, right_index, sort, suffixes, copy, indicator, validate)\u001b[0m\n\u001b[1;32m    625\u001b[0m             \u001b[0mself\u001b[0m\u001b[0;34m.\u001b[0m\u001b[0mright_join_keys\u001b[0m\u001b[0;34m,\u001b[0m\u001b[0;34m\u001b[0m\u001b[0;34m\u001b[0m\u001b[0m\n\u001b[1;32m    626\u001b[0m             \u001b[0mself\u001b[0m\u001b[0;34m.\u001b[0m\u001b[0mjoin_names\u001b[0m\u001b[0;34m,\u001b[0m\u001b[0;34m\u001b[0m\u001b[0;34m\u001b[0m\u001b[0m\n\u001b[0;32m--> 627\u001b[0;31m         ) = self._get_merge_keys()\n\u001b[0m\u001b[1;32m    628\u001b[0m \u001b[0;34m\u001b[0m\u001b[0m\n\u001b[1;32m    629\u001b[0m         \u001b[0;31m# validate the merge keys dtypes. We may need to coerce\u001b[0m\u001b[0;34m\u001b[0m\u001b[0;34m\u001b[0m\u001b[0;34m\u001b[0m\u001b[0m\n",
                        "\u001b[0;32m/opt/conda/envs/Python-3.7-OpenCE/lib/python3.7/site-packages/pandas/core/reshape/merge.py\u001b[0m in \u001b[0;36m_get_merge_keys\u001b[0;34m(self)\u001b[0m\n\u001b[1;32m   1006\u001b[0m                     \u001b[0mjoin_names\u001b[0m\u001b[0;34m.\u001b[0m\u001b[0mappend\u001b[0m\u001b[0;34m(\u001b[0m\u001b[0;32mNone\u001b[0m\u001b[0;34m)\u001b[0m\u001b[0;34m\u001b[0m\u001b[0;34m\u001b[0m\u001b[0m\n\u001b[1;32m   1007\u001b[0m                 \u001b[0;32melse\u001b[0m\u001b[0;34m:\u001b[0m\u001b[0;34m\u001b[0m\u001b[0;34m\u001b[0m\u001b[0m\n\u001b[0;32m-> 1008\u001b[0;31m                     \u001b[0mleft_keys\u001b[0m\u001b[0;34m.\u001b[0m\u001b[0mappend\u001b[0m\u001b[0;34m(\u001b[0m\u001b[0mleft\u001b[0m\u001b[0;34m.\u001b[0m\u001b[0m_get_label_or_level_values\u001b[0m\u001b[0;34m(\u001b[0m\u001b[0mk\u001b[0m\u001b[0;34m)\u001b[0m\u001b[0;34m)\u001b[0m\u001b[0;34m\u001b[0m\u001b[0;34m\u001b[0m\u001b[0m\n\u001b[0m\u001b[1;32m   1009\u001b[0m                     \u001b[0mjoin_names\u001b[0m\u001b[0;34m.\u001b[0m\u001b[0mappend\u001b[0m\u001b[0;34m(\u001b[0m\u001b[0mk\u001b[0m\u001b[0;34m)\u001b[0m\u001b[0;34m\u001b[0m\u001b[0;34m\u001b[0m\u001b[0m\n\u001b[1;32m   1010\u001b[0m             \u001b[0;32mif\u001b[0m \u001b[0misinstance\u001b[0m\u001b[0;34m(\u001b[0m\u001b[0mself\u001b[0m\u001b[0;34m.\u001b[0m\u001b[0mright\u001b[0m\u001b[0;34m.\u001b[0m\u001b[0mindex\u001b[0m\u001b[0;34m,\u001b[0m \u001b[0mMultiIndex\u001b[0m\u001b[0;34m)\u001b[0m\u001b[0;34m:\u001b[0m\u001b[0;34m\u001b[0m\u001b[0;34m\u001b[0m\u001b[0m\n",
                        "\u001b[0;32m/opt/conda/envs/Python-3.7-OpenCE/lib/python3.7/site-packages/pandas/core/generic.py\u001b[0m in \u001b[0;36m_get_label_or_level_values\u001b[0;34m(self, key, axis)\u001b[0m\n\u001b[1;32m   1690\u001b[0m             \u001b[0mvalues\u001b[0m \u001b[0;34m=\u001b[0m \u001b[0mself\u001b[0m\u001b[0;34m.\u001b[0m\u001b[0maxes\u001b[0m\u001b[0;34m[\u001b[0m\u001b[0maxis\u001b[0m\u001b[0;34m]\u001b[0m\u001b[0;34m.\u001b[0m\u001b[0mget_level_values\u001b[0m\u001b[0;34m(\u001b[0m\u001b[0mkey\u001b[0m\u001b[0;34m)\u001b[0m\u001b[0;34m.\u001b[0m\u001b[0m_values\u001b[0m\u001b[0;34m\u001b[0m\u001b[0;34m\u001b[0m\u001b[0m\n\u001b[1;32m   1691\u001b[0m         \u001b[0;32melse\u001b[0m\u001b[0;34m:\u001b[0m\u001b[0;34m\u001b[0m\u001b[0;34m\u001b[0m\u001b[0m\n\u001b[0;32m-> 1692\u001b[0;31m             \u001b[0;32mraise\u001b[0m \u001b[0mKeyError\u001b[0m\u001b[0;34m(\u001b[0m\u001b[0mkey\u001b[0m\u001b[0;34m)\u001b[0m\u001b[0;34m\u001b[0m\u001b[0;34m\u001b[0m\u001b[0m\n\u001b[0m\u001b[1;32m   1693\u001b[0m \u001b[0;34m\u001b[0m\u001b[0m\n\u001b[1;32m   1694\u001b[0m         \u001b[0;31m# Check for duplicates\u001b[0m\u001b[0;34m\u001b[0m\u001b[0;34m\u001b[0m\u001b[0;34m\u001b[0m\u001b[0m\n",
                        "\u001b[0;31mKeyError\u001b[0m: 'Postal Code'"
                    ]
                }
            ]
        },
        {
            "metadata": {},
            "cell_type": "markdown",
            "source": "# Part 3"
        },
        {
            "metadata": {},
            "cell_type": "code",
            "source": "from geopy.geocoders import Nominatim\n",
            "execution_count": null,
            "outputs": []
        },
        {
            "metadata": {},
            "cell_type": "code",
            "source": "address = 'Toronto, Ontario'\n\ngeolocator = Nominatim(user_agent=\"toronto_explorer\")\nlocation = geolocator.geocode(address)\nlatitude = location.latitude\nlongitude = location.longitude\nprint('The coordinates of Toronto are {}, {}.'.format(latitude, longitude))",
            "execution_count": null,
            "outputs": []
        },
        {
            "metadata": {
                "scrolled": true
            },
            "cell_type": "code",
            "source": "import folium\n\nmap_Toronto = folium.Map(location=[latitude, longitude], zoom_start=9.5)\n\n# adding markers to map\nfor latitude, longitude, borough, neighbourhood in zip(cdf['Latitude'], cdf['Longitude'], cdf['Borough'], cdf['Neighbourhood']):\n    label = '{}, {}'.format(neighbourhood, borough)\n    label = folium.Popup(label, parse_html=True)\n    folium.CircleMarker(\n        [latitude, longitude],\n        radius=5,\n        popup=label,\n        color='red',\n        fill=True\n        ).add_to(map_Toronto)  \n    \nmap_Toronto",
            "execution_count": null,
            "outputs": []
        },
        {
            "metadata": {},
            "cell_type": "code",
            "source": "CLIENT_ID = 'DMH1E1LOCJXQVBDC3V5GA35BMY15F0FWARF3AJTHQJACVTWH' \nCLIENT_SECRET = 'FJMDOJN4WSWOZPTZEZNP2PDLK40JVVY334EBKPXDEMZPDE1Z'\nVERSION = '20201205' # Foursquare API version\n\nprint('Your credentails:')\nprint('CLIENT_ID: ' + CLIENT_ID)\nprint('CLIENT_SECRET:' + CLIENT_SECRET)",
            "execution_count": null,
            "outputs": []
        },
        {
            "metadata": {},
            "cell_type": "code",
            "source": "def getNearbyVenues(names, latitudes, longitudes, radius=500):\n    \n    venues_list=[]\n    for name, lat, lng in zip(names, latitudes, longitudes):\n        print(name)\n            \n        # create the API request URL\n        url = 'https://api.foursquare.com/v2/venues/explore?&client_id={}&client_secret={}&v={}&ll={},{}&radius={}'.format(\n            CLIENT_ID, \n            CLIENT_SECRET, \n            VERSION, \n            lat, \n            lng, \n            radius\n            )\n            \n        # make the GET request\n        results = requests.get(url).json()[\"response\"]['groups'][0]['items']\n        \n        # return only relevant information for each nearby venue\n        venues_list.append([(\n            name, \n            lat, \n            lng, \n            v['venue']['name'], \n            v['venue']['categories'][0]['name']) for v in results])\n\n    nearby_venues = pd.DataFrame([item for venue_list in venues_list for item in venue_list])\n    nearby_venues.columns = ['Neighbourhood', \n                  'Neighbourhood Latitude', \n                  'Neighbourhood Longitude', \n                  'Venue', \n                  'Venue Category']\n    \n    return(nearby_venues)",
            "execution_count": null,
            "outputs": []
        },
        {
            "metadata": {},
            "cell_type": "code",
            "source": "toronto_venues = getNearbyVenues(cdf['Neighbourhood'], cdf['Latitude'], cdf['Longitude'])\n",
            "execution_count": null,
            "outputs": []
        },
        {
            "metadata": {},
            "cell_type": "code",
            "source": "print(toronto_venues.shape)\ntoronto_venues.head()",
            "execution_count": null,
            "outputs": []
        },
        {
            "metadata": {},
            "cell_type": "code",
            "source": "toronto_venues.groupby('Neighbourhood').count()",
            "execution_count": 14,
            "outputs": [
                {
                    "output_type": "error",
                    "ename": "NameError",
                    "evalue": "name 'toronto_venues' is not defined",
                    "traceback": [
                        "\u001b[0;31m---------------------------------------------------------------------------\u001b[0m",
                        "\u001b[0;31mNameError\u001b[0m                                 Traceback (most recent call last)",
                        "\u001b[0;32m<ipython-input-14-fb92d57cc5f2>\u001b[0m in \u001b[0;36m<module>\u001b[0;34m\u001b[0m\n\u001b[0;32m----> 1\u001b[0;31m \u001b[0mtoronto_venues\u001b[0m\u001b[0;34m.\u001b[0m\u001b[0mgroupby\u001b[0m\u001b[0;34m(\u001b[0m\u001b[0;34m'Neighbourhood'\u001b[0m\u001b[0;34m)\u001b[0m\u001b[0;34m.\u001b[0m\u001b[0mcount\u001b[0m\u001b[0;34m(\u001b[0m\u001b[0;34m)\u001b[0m\u001b[0;34m\u001b[0m\u001b[0;34m\u001b[0m\u001b[0m\n\u001b[0m",
                        "\u001b[0;31mNameError\u001b[0m: name 'toronto_venues' is not defined"
                    ]
                }
            ]
        },
        {
            "metadata": {},
            "cell_type": "code",
            "source": "print('There are {} uniques categories.'.format(len(toronto_venues['Venue Category'].unique())))",
            "execution_count": 15,
            "outputs": [
                {
                    "output_type": "error",
                    "ename": "NameError",
                    "evalue": "name 'toronto_venues' is not defined",
                    "traceback": [
                        "\u001b[0;31m---------------------------------------------------------------------------\u001b[0m",
                        "\u001b[0;31mNameError\u001b[0m                                 Traceback (most recent call last)",
                        "\u001b[0;32m<ipython-input-15-7eba502922c0>\u001b[0m in \u001b[0;36m<module>\u001b[0;34m\u001b[0m\n\u001b[0;32m----> 1\u001b[0;31m \u001b[0mprint\u001b[0m\u001b[0;34m(\u001b[0m\u001b[0;34m'There are {} uniques categories.'\u001b[0m\u001b[0;34m.\u001b[0m\u001b[0mformat\u001b[0m\u001b[0;34m(\u001b[0m\u001b[0mlen\u001b[0m\u001b[0;34m(\u001b[0m\u001b[0mtoronto_venues\u001b[0m\u001b[0;34m[\u001b[0m\u001b[0;34m'Venue Category'\u001b[0m\u001b[0;34m]\u001b[0m\u001b[0;34m.\u001b[0m\u001b[0munique\u001b[0m\u001b[0;34m(\u001b[0m\u001b[0;34m)\u001b[0m\u001b[0;34m)\u001b[0m\u001b[0;34m)\u001b[0m\u001b[0;34m)\u001b[0m\u001b[0;34m\u001b[0m\u001b[0;34m\u001b[0m\u001b[0m\n\u001b[0m",
                        "\u001b[0;31mNameError\u001b[0m: name 'toronto_venues' is not defined"
                    ]
                }
            ]
        },
        {
            "metadata": {},
            "cell_type": "markdown",
            "source": "## Analyize each Neighbourhood"
        },
        {
            "metadata": {},
            "cell_type": "code",
            "source": "# one hot encoding\ntoronto_onehot = pd.get_dummies(toronto_venues[['Venue Category']], prefix=\"\", prefix_sep=\"\")\n\n# add neighborhood column back to dataframe\ntoronto_onehot['Neighbourhood'] = toronto_venues['Neighbourhood'] \n\n# move neighborhood column to the first column\nfixed_columns = [toronto_onehot.columns[-1]] + list(toronto_onehot.columns[:-1])\ntoronto_onehot = toronto_onehot[fixed_columns]\n\ntoronto_onehot.head()",
            "execution_count": null,
            "outputs": []
        },
        {
            "metadata": {},
            "cell_type": "code",
            "source": "toronto_onehot.shape",
            "execution_count": null,
            "outputs": []
        },
        {
            "metadata": {},
            "cell_type": "code",
            "source": "toronto_grouped = toronto_onehot.groupby('Neighbourhood').mean().reset_index()\ntoronto_grouped",
            "execution_count": null,
            "outputs": []
        },
        {
            "metadata": {},
            "cell_type": "code",
            "source": "toronto_grouped.shape",
            "execution_count": null,
            "outputs": []
        },
        {
            "metadata": {},
            "cell_type": "code",
            "source": "num_top_venues = 10\n\nfor hood in toronto_grouped['Neighbourhood']:\n    print(\"----\"+hood+\"----\")\n    temp = toronto_grouped[toronto_grouped['Neighbourhood'] == hood].T.reset_index()\n    temp.columns = ['venue','freq']\n    temp = temp.iloc[1:]\n    temp['freq'] = temp['freq'].astype(float)\n    temp = temp.round({'freq': 2})\n    print(temp.sort_values('freq', ascending=False).reset_index(drop=True).head(num_top_venues))\n    print('\\n')",
            "execution_count": null,
            "outputs": []
        },
        {
            "metadata": {},
            "cell_type": "code",
            "source": "def return_most_common_venues(row, num_top_venues):\n    row_categories = row.iloc[1:]\n    row_categories_sorted = row_categories.sort_values(ascending=False)\n    \n    return row_categories_sorted.index.values[0:num_top_venues]",
            "execution_count": 16,
            "outputs": []
        },
        {
            "metadata": {},
            "cell_type": "code",
            "source": "import numpy as np\nimport matplotlib.cm as cm\nimport matplotlib.colors as colors\n",
            "execution_count": 17,
            "outputs": []
        },
        {
            "metadata": {},
            "cell_type": "code",
            "source": "num_top_venues = 10\n\nindicators = ['st', 'nd', 'rd']\n\n# create columns according to number of top venues\ncolumns = ['Neighbourhood']\nfor ind in np.arange(num_top_venues):\n    try:\n        columns.append('{}{} Most Common Venue'.format(ind+1, indicators[ind]))\n    except:\n        columns.append('{}th Most Common Venue'.format(ind+1))\n\n# create a new dataframe\nneighbourhoods_venues_sorted = pd.DataFrame(columns=columns)\nneighbourhoods_venues_sorted['Neighbourhood'] = toronto_grouped['Neighbourhood']\n\nfor ind in np.arange(toronto_grouped.shape[0]):\n    neighbourhoods_venues_sorted.iloc[ind, 1:] = return_most_common_venues(toronto_grouped.iloc[ind, :], num_top_venues)\n\nneighbourhoods_venues_sorted.head()",
            "execution_count": 18,
            "outputs": [
                {
                    "output_type": "error",
                    "ename": "NameError",
                    "evalue": "name 'toronto_grouped' is not defined",
                    "traceback": [
                        "\u001b[0;31m---------------------------------------------------------------------------\u001b[0m",
                        "\u001b[0;31mNameError\u001b[0m                                 Traceback (most recent call last)",
                        "\u001b[0;32m<ipython-input-18-9fb70e5392ea>\u001b[0m in \u001b[0;36m<module>\u001b[0;34m\u001b[0m\n\u001b[1;32m     13\u001b[0m \u001b[0;31m# create a new dataframe\u001b[0m\u001b[0;34m\u001b[0m\u001b[0;34m\u001b[0m\u001b[0;34m\u001b[0m\u001b[0m\n\u001b[1;32m     14\u001b[0m \u001b[0mneighbourhoods_venues_sorted\u001b[0m \u001b[0;34m=\u001b[0m \u001b[0mpd\u001b[0m\u001b[0;34m.\u001b[0m\u001b[0mDataFrame\u001b[0m\u001b[0;34m(\u001b[0m\u001b[0mcolumns\u001b[0m\u001b[0;34m=\u001b[0m\u001b[0mcolumns\u001b[0m\u001b[0;34m)\u001b[0m\u001b[0;34m\u001b[0m\u001b[0;34m\u001b[0m\u001b[0m\n\u001b[0;32m---> 15\u001b[0;31m \u001b[0mneighbourhoods_venues_sorted\u001b[0m\u001b[0;34m[\u001b[0m\u001b[0;34m'Neighbourhood'\u001b[0m\u001b[0;34m]\u001b[0m \u001b[0;34m=\u001b[0m \u001b[0mtoronto_grouped\u001b[0m\u001b[0;34m[\u001b[0m\u001b[0;34m'Neighbourhood'\u001b[0m\u001b[0;34m]\u001b[0m\u001b[0;34m\u001b[0m\u001b[0;34m\u001b[0m\u001b[0m\n\u001b[0m\u001b[1;32m     16\u001b[0m \u001b[0;34m\u001b[0m\u001b[0m\n\u001b[1;32m     17\u001b[0m \u001b[0;32mfor\u001b[0m \u001b[0mind\u001b[0m \u001b[0;32min\u001b[0m \u001b[0mnp\u001b[0m\u001b[0;34m.\u001b[0m\u001b[0marange\u001b[0m\u001b[0;34m(\u001b[0m\u001b[0mtoronto_grouped\u001b[0m\u001b[0;34m.\u001b[0m\u001b[0mshape\u001b[0m\u001b[0;34m[\u001b[0m\u001b[0;36m0\u001b[0m\u001b[0;34m]\u001b[0m\u001b[0;34m)\u001b[0m\u001b[0;34m:\u001b[0m\u001b[0;34m\u001b[0m\u001b[0;34m\u001b[0m\u001b[0m\n",
                        "\u001b[0;31mNameError\u001b[0m: name 'toronto_grouped' is not defined"
                    ]
                }
            ]
        },
        {
            "metadata": {},
            "cell_type": "code",
            "source": "from sklearn.cluster import KMeans",
            "execution_count": 19,
            "outputs": []
        },
        {
            "metadata": {},
            "cell_type": "code",
            "source": "# number of clusters\nkclusters = 5\n\ntoronto_grouped_clustering = toronto_grouped.drop('Neighbourhood', 1)\n\n# run k-means clustering\nkmeans = KMeans(n_clusters=kclusters, random_state=0).fit(toronto_grouped_clustering)\n\n# check cluster labels generated for each row in the dataframe\nkmeans.labels_[0:10] ",
            "execution_count": 20,
            "outputs": [
                {
                    "output_type": "error",
                    "ename": "NameError",
                    "evalue": "name 'toronto_grouped' is not defined",
                    "traceback": [
                        "\u001b[0;31m---------------------------------------------------------------------------\u001b[0m",
                        "\u001b[0;31mNameError\u001b[0m                                 Traceback (most recent call last)",
                        "\u001b[0;32m<ipython-input-20-edcdc803d0a0>\u001b[0m in \u001b[0;36m<module>\u001b[0;34m\u001b[0m\n\u001b[1;32m      2\u001b[0m \u001b[0mkclusters\u001b[0m \u001b[0;34m=\u001b[0m \u001b[0;36m5\u001b[0m\u001b[0;34m\u001b[0m\u001b[0;34m\u001b[0m\u001b[0m\n\u001b[1;32m      3\u001b[0m \u001b[0;34m\u001b[0m\u001b[0m\n\u001b[0;32m----> 4\u001b[0;31m \u001b[0mtoronto_grouped_clustering\u001b[0m \u001b[0;34m=\u001b[0m \u001b[0mtoronto_grouped\u001b[0m\u001b[0;34m.\u001b[0m\u001b[0mdrop\u001b[0m\u001b[0;34m(\u001b[0m\u001b[0;34m'Neighbourhood'\u001b[0m\u001b[0;34m,\u001b[0m \u001b[0;36m1\u001b[0m\u001b[0;34m)\u001b[0m\u001b[0;34m\u001b[0m\u001b[0;34m\u001b[0m\u001b[0m\n\u001b[0m\u001b[1;32m      5\u001b[0m \u001b[0;34m\u001b[0m\u001b[0m\n\u001b[1;32m      6\u001b[0m \u001b[0;31m# run k-means clustering\u001b[0m\u001b[0;34m\u001b[0m\u001b[0;34m\u001b[0m\u001b[0;34m\u001b[0m\u001b[0m\n",
                        "\u001b[0;31mNameError\u001b[0m: name 'toronto_grouped' is not defined"
                    ]
                }
            ]
        },
        {
            "metadata": {},
            "cell_type": "markdown",
            "source": "- new dataframe that includes the cluster as well as the top 10 venues for each neighborhood."
        },
        {
            "metadata": {},
            "cell_type": "code",
            "source": "# add clustering labels\nneighbourhoods_venues_sorted.insert(0, 'Cluster Labels', kmeans.labels_)\n\ntoronto_merged = cdf\n\ntoronto_merged = toronto_merged.join(neighbourhoods_venues_sorted.set_index('Neighbourhood'), on='Neighbourhood')\n\ntoronto_merged.head() # check the last columns!",
            "execution_count": 21,
            "outputs": [
                {
                    "output_type": "error",
                    "ename": "NameError",
                    "evalue": "name 'kmeans' is not defined",
                    "traceback": [
                        "\u001b[0;31m---------------------------------------------------------------------------\u001b[0m",
                        "\u001b[0;31mNameError\u001b[0m                                 Traceback (most recent call last)",
                        "\u001b[0;32m<ipython-input-21-c34b3f7df703>\u001b[0m in \u001b[0;36m<module>\u001b[0;34m\u001b[0m\n\u001b[1;32m      1\u001b[0m \u001b[0;31m# add clustering labels\u001b[0m\u001b[0;34m\u001b[0m\u001b[0;34m\u001b[0m\u001b[0;34m\u001b[0m\u001b[0m\n\u001b[0;32m----> 2\u001b[0;31m \u001b[0mneighbourhoods_venues_sorted\u001b[0m\u001b[0;34m.\u001b[0m\u001b[0minsert\u001b[0m\u001b[0;34m(\u001b[0m\u001b[0;36m0\u001b[0m\u001b[0;34m,\u001b[0m \u001b[0;34m'Cluster Labels'\u001b[0m\u001b[0;34m,\u001b[0m \u001b[0mkmeans\u001b[0m\u001b[0;34m.\u001b[0m\u001b[0mlabels_\u001b[0m\u001b[0;34m)\u001b[0m\u001b[0;34m\u001b[0m\u001b[0;34m\u001b[0m\u001b[0m\n\u001b[0m\u001b[1;32m      3\u001b[0m \u001b[0;34m\u001b[0m\u001b[0m\n\u001b[1;32m      4\u001b[0m \u001b[0mtoronto_merged\u001b[0m \u001b[0;34m=\u001b[0m \u001b[0mcdf\u001b[0m\u001b[0;34m\u001b[0m\u001b[0;34m\u001b[0m\u001b[0m\n\u001b[1;32m      5\u001b[0m \u001b[0;34m\u001b[0m\u001b[0m\n",
                        "\u001b[0;31mNameError\u001b[0m: name 'kmeans' is not defined"
                    ]
                }
            ]
        },
        {
            "metadata": {},
            "cell_type": "code",
            "source": "\ntoronto_merged.isnull().sum()",
            "execution_count": 22,
            "outputs": [
                {
                    "output_type": "error",
                    "ename": "NameError",
                    "evalue": "name 'toronto_merged' is not defined",
                    "traceback": [
                        "\u001b[0;31m---------------------------------------------------------------------------\u001b[0m",
                        "\u001b[0;31mNameError\u001b[0m                                 Traceback (most recent call last)",
                        "\u001b[0;32m<ipython-input-22-2f1f333577e4>\u001b[0m in \u001b[0;36m<module>\u001b[0;34m\u001b[0m\n\u001b[0;32m----> 1\u001b[0;31m \u001b[0mtoronto_merged\u001b[0m\u001b[0;34m.\u001b[0m\u001b[0misnull\u001b[0m\u001b[0;34m(\u001b[0m\u001b[0;34m)\u001b[0m\u001b[0;34m.\u001b[0m\u001b[0msum\u001b[0m\u001b[0;34m(\u001b[0m\u001b[0;34m)\u001b[0m\u001b[0;34m\u001b[0m\u001b[0;34m\u001b[0m\u001b[0m\n\u001b[0m",
                        "\u001b[0;31mNameError\u001b[0m: name 'toronto_merged' is not defined"
                    ]
                }
            ]
        },
        {
            "metadata": {},
            "cell_type": "code",
            "source": "toronto_merged.dropna(subset=['Cluster Labels'], inplace=True)",
            "execution_count": 23,
            "outputs": [
                {
                    "output_type": "error",
                    "ename": "NameError",
                    "evalue": "name 'toronto_merged' is not defined",
                    "traceback": [
                        "\u001b[0;31m---------------------------------------------------------------------------\u001b[0m",
                        "\u001b[0;31mNameError\u001b[0m                                 Traceback (most recent call last)",
                        "\u001b[0;32m<ipython-input-23-4a339d36048b>\u001b[0m in \u001b[0;36m<module>\u001b[0;34m\u001b[0m\n\u001b[0;32m----> 1\u001b[0;31m \u001b[0mtoronto_merged\u001b[0m\u001b[0;34m.\u001b[0m\u001b[0mdropna\u001b[0m\u001b[0;34m(\u001b[0m\u001b[0msubset\u001b[0m\u001b[0;34m=\u001b[0m\u001b[0;34m[\u001b[0m\u001b[0;34m'Cluster Labels'\u001b[0m\u001b[0;34m]\u001b[0m\u001b[0;34m,\u001b[0m \u001b[0minplace\u001b[0m\u001b[0;34m=\u001b[0m\u001b[0;32mTrue\u001b[0m\u001b[0;34m)\u001b[0m\u001b[0;34m\u001b[0m\u001b[0;34m\u001b[0m\u001b[0m\n\u001b[0m",
                        "\u001b[0;31mNameError\u001b[0m: name 'toronto_merged' is not defined"
                    ]
                }
            ]
        },
        {
            "metadata": {},
            "cell_type": "code",
            "source": "toronto_merged.isnull().sum()",
            "execution_count": 24,
            "outputs": [
                {
                    "output_type": "error",
                    "ename": "NameError",
                    "evalue": "name 'toronto_merged' is not defined",
                    "traceback": [
                        "\u001b[0;31m---------------------------------------------------------------------------\u001b[0m",
                        "\u001b[0;31mNameError\u001b[0m                                 Traceback (most recent call last)",
                        "\u001b[0;32m<ipython-input-24-2f1f333577e4>\u001b[0m in \u001b[0;36m<module>\u001b[0;34m\u001b[0m\n\u001b[0;32m----> 1\u001b[0;31m \u001b[0mtoronto_merged\u001b[0m\u001b[0;34m.\u001b[0m\u001b[0misnull\u001b[0m\u001b[0;34m(\u001b[0m\u001b[0;34m)\u001b[0m\u001b[0;34m.\u001b[0m\u001b[0msum\u001b[0m\u001b[0;34m(\u001b[0m\u001b[0;34m)\u001b[0m\u001b[0;34m\u001b[0m\u001b[0;34m\u001b[0m\u001b[0m\n\u001b[0m",
                        "\u001b[0;31mNameError\u001b[0m: name 'toronto_merged' is not defined"
                    ]
                }
            ]
        },
        {
            "metadata": {},
            "cell_type": "markdown",
            "source": "## Visualize the cluster on map"
        },
        {
            "metadata": {
                "scrolled": true
            },
            "cell_type": "code",
            "source": "# create map\nmap_clusters = folium.Map(location=[latitude, longitude], zoom_start=10)\n\n# set color scheme for the clusters\nx = np.arange(kclusters)\nys = [i + x + (i*x)**2 for i in range(kclusters)]\ncolors_array = cm.rainbow(np.linspace(0, 1, len(ys)))\nrainbow = [colors.rgb2hex(i) for i in colors_array]\n\n# add markers to the map\nmarkers_colors = []\nfor lat, lon, poi, cluster in zip(toronto_merged['Latitude'], toronto_merged['Longitude'], toronto_merged['Neighbourhood'], toronto_merged['Cluster Labels']):\n    label = folium.Popup(str(poi) + ' Cluster ' + str(cluster), parse_html=True)\n    folium.CircleMarker(\n        [lat, lon],\n        radius=5,\n        popup=label,\n        color=rainbow[int(cluster)-1],\n        fill=True,\n        fill_color=rainbow[int(cluster)-1],\n        fill_opacity=0.7).add_to(map_clusters)\n       \nmap_clusters",
            "execution_count": 25,
            "outputs": [
                {
                    "output_type": "error",
                    "ename": "NameError",
                    "evalue": "name 'folium' is not defined",
                    "traceback": [
                        "\u001b[0;31m---------------------------------------------------------------------------\u001b[0m",
                        "\u001b[0;31mNameError\u001b[0m                                 Traceback (most recent call last)",
                        "\u001b[0;32m<ipython-input-25-48af7e479e4e>\u001b[0m in \u001b[0;36m<module>\u001b[0;34m\u001b[0m\n\u001b[1;32m      1\u001b[0m \u001b[0;31m# create map\u001b[0m\u001b[0;34m\u001b[0m\u001b[0;34m\u001b[0m\u001b[0;34m\u001b[0m\u001b[0m\n\u001b[0;32m----> 2\u001b[0;31m \u001b[0mmap_clusters\u001b[0m \u001b[0;34m=\u001b[0m \u001b[0mfolium\u001b[0m\u001b[0;34m.\u001b[0m\u001b[0mMap\u001b[0m\u001b[0;34m(\u001b[0m\u001b[0mlocation\u001b[0m\u001b[0;34m=\u001b[0m\u001b[0;34m[\u001b[0m\u001b[0mlatitude\u001b[0m\u001b[0;34m,\u001b[0m \u001b[0mlongitude\u001b[0m\u001b[0;34m]\u001b[0m\u001b[0;34m,\u001b[0m \u001b[0mzoom_start\u001b[0m\u001b[0;34m=\u001b[0m\u001b[0;36m10\u001b[0m\u001b[0;34m)\u001b[0m\u001b[0;34m\u001b[0m\u001b[0;34m\u001b[0m\u001b[0m\n\u001b[0m\u001b[1;32m      3\u001b[0m \u001b[0;34m\u001b[0m\u001b[0m\n\u001b[1;32m      4\u001b[0m \u001b[0;31m# set color scheme for the clusters\u001b[0m\u001b[0;34m\u001b[0m\u001b[0;34m\u001b[0m\u001b[0;34m\u001b[0m\u001b[0m\n\u001b[1;32m      5\u001b[0m \u001b[0mx\u001b[0m \u001b[0;34m=\u001b[0m \u001b[0mnp\u001b[0m\u001b[0;34m.\u001b[0m\u001b[0marange\u001b[0m\u001b[0;34m(\u001b[0m\u001b[0mkclusters\u001b[0m\u001b[0;34m)\u001b[0m\u001b[0;34m\u001b[0m\u001b[0;34m\u001b[0m\u001b[0m\n",
                        "\u001b[0;31mNameError\u001b[0m: name 'folium' is not defined"
                    ]
                }
            ]
        },
        {
            "metadata": {},
            "cell_type": "markdown",
            "source": " ## Examine Clusters"
        },
        {
            "metadata": {},
            "cell_type": "code",
            "source": "toronto_merged.loc[toronto_merged['Cluster Labels'] == 0, toronto_merged.columns[[1] + list(range(5, toronto_merged.shape[1]))]]",
            "execution_count": 26,
            "outputs": [
                {
                    "output_type": "error",
                    "ename": "NameError",
                    "evalue": "name 'toronto_merged' is not defined",
                    "traceback": [
                        "\u001b[0;31m---------------------------------------------------------------------------\u001b[0m",
                        "\u001b[0;31mNameError\u001b[0m                                 Traceback (most recent call last)",
                        "\u001b[0;32m<ipython-input-26-ba6473e1ba52>\u001b[0m in \u001b[0;36m<module>\u001b[0;34m\u001b[0m\n\u001b[0;32m----> 1\u001b[0;31m \u001b[0mtoronto_merged\u001b[0m\u001b[0;34m.\u001b[0m\u001b[0mloc\u001b[0m\u001b[0;34m[\u001b[0m\u001b[0mtoronto_merged\u001b[0m\u001b[0;34m[\u001b[0m\u001b[0;34m'Cluster Labels'\u001b[0m\u001b[0;34m]\u001b[0m \u001b[0;34m==\u001b[0m \u001b[0;36m0\u001b[0m\u001b[0;34m,\u001b[0m \u001b[0mtoronto_merged\u001b[0m\u001b[0;34m.\u001b[0m\u001b[0mcolumns\u001b[0m\u001b[0;34m[\u001b[0m\u001b[0;34m[\u001b[0m\u001b[0;36m1\u001b[0m\u001b[0;34m]\u001b[0m \u001b[0;34m+\u001b[0m \u001b[0mlist\u001b[0m\u001b[0;34m(\u001b[0m\u001b[0mrange\u001b[0m\u001b[0;34m(\u001b[0m\u001b[0;36m5\u001b[0m\u001b[0;34m,\u001b[0m \u001b[0mtoronto_merged\u001b[0m\u001b[0;34m.\u001b[0m\u001b[0mshape\u001b[0m\u001b[0;34m[\u001b[0m\u001b[0;36m1\u001b[0m\u001b[0;34m]\u001b[0m\u001b[0;34m)\u001b[0m\u001b[0;34m)\u001b[0m\u001b[0;34m]\u001b[0m\u001b[0;34m]\u001b[0m\u001b[0;34m\u001b[0m\u001b[0;34m\u001b[0m\u001b[0m\n\u001b[0m",
                        "\u001b[0;31mNameError\u001b[0m: name 'toronto_merged' is not defined"
                    ]
                }
            ]
        },
        {
            "metadata": {},
            "cell_type": "code",
            "source": "toronto_merged.loc[toronto_merged['Cluster Labels'] == 1, toronto_merged.columns[[1] + list(range(5, toronto_merged.shape[1]))]]",
            "execution_count": 27,
            "outputs": [
                {
                    "output_type": "error",
                    "ename": "NameError",
                    "evalue": "name 'toronto_merged' is not defined",
                    "traceback": [
                        "\u001b[0;31m---------------------------------------------------------------------------\u001b[0m",
                        "\u001b[0;31mNameError\u001b[0m                                 Traceback (most recent call last)",
                        "\u001b[0;32m<ipython-input-27-ccc7eb25c979>\u001b[0m in \u001b[0;36m<module>\u001b[0;34m\u001b[0m\n\u001b[0;32m----> 1\u001b[0;31m \u001b[0mtoronto_merged\u001b[0m\u001b[0;34m.\u001b[0m\u001b[0mloc\u001b[0m\u001b[0;34m[\u001b[0m\u001b[0mtoronto_merged\u001b[0m\u001b[0;34m[\u001b[0m\u001b[0;34m'Cluster Labels'\u001b[0m\u001b[0;34m]\u001b[0m \u001b[0;34m==\u001b[0m \u001b[0;36m1\u001b[0m\u001b[0;34m,\u001b[0m \u001b[0mtoronto_merged\u001b[0m\u001b[0;34m.\u001b[0m\u001b[0mcolumns\u001b[0m\u001b[0;34m[\u001b[0m\u001b[0;34m[\u001b[0m\u001b[0;36m1\u001b[0m\u001b[0;34m]\u001b[0m \u001b[0;34m+\u001b[0m \u001b[0mlist\u001b[0m\u001b[0;34m(\u001b[0m\u001b[0mrange\u001b[0m\u001b[0;34m(\u001b[0m\u001b[0;36m5\u001b[0m\u001b[0;34m,\u001b[0m \u001b[0mtoronto_merged\u001b[0m\u001b[0;34m.\u001b[0m\u001b[0mshape\u001b[0m\u001b[0;34m[\u001b[0m\u001b[0;36m1\u001b[0m\u001b[0;34m]\u001b[0m\u001b[0;34m)\u001b[0m\u001b[0;34m)\u001b[0m\u001b[0;34m]\u001b[0m\u001b[0;34m]\u001b[0m\u001b[0;34m\u001b[0m\u001b[0;34m\u001b[0m\u001b[0m\n\u001b[0m",
                        "\u001b[0;31mNameError\u001b[0m: name 'toronto_merged' is not defined"
                    ]
                }
            ]
        },
        {
            "metadata": {},
            "cell_type": "code",
            "source": "toronto_merged.loc[toronto_merged['Cluster Labels'] == 2, toronto_merged.columns[[1] + list(range(5, toronto_merged.shape[1]))]]",
            "execution_count": 28,
            "outputs": [
                {
                    "output_type": "error",
                    "ename": "NameError",
                    "evalue": "name 'toronto_merged' is not defined",
                    "traceback": [
                        "\u001b[0;31m---------------------------------------------------------------------------\u001b[0m",
                        "\u001b[0;31mNameError\u001b[0m                                 Traceback (most recent call last)",
                        "\u001b[0;32m<ipython-input-28-9a4354b15b4d>\u001b[0m in \u001b[0;36m<module>\u001b[0;34m\u001b[0m\n\u001b[0;32m----> 1\u001b[0;31m \u001b[0mtoronto_merged\u001b[0m\u001b[0;34m.\u001b[0m\u001b[0mloc\u001b[0m\u001b[0;34m[\u001b[0m\u001b[0mtoronto_merged\u001b[0m\u001b[0;34m[\u001b[0m\u001b[0;34m'Cluster Labels'\u001b[0m\u001b[0;34m]\u001b[0m \u001b[0;34m==\u001b[0m \u001b[0;36m2\u001b[0m\u001b[0;34m,\u001b[0m \u001b[0mtoronto_merged\u001b[0m\u001b[0;34m.\u001b[0m\u001b[0mcolumns\u001b[0m\u001b[0;34m[\u001b[0m\u001b[0;34m[\u001b[0m\u001b[0;36m1\u001b[0m\u001b[0;34m]\u001b[0m \u001b[0;34m+\u001b[0m \u001b[0mlist\u001b[0m\u001b[0;34m(\u001b[0m\u001b[0mrange\u001b[0m\u001b[0;34m(\u001b[0m\u001b[0;36m5\u001b[0m\u001b[0;34m,\u001b[0m \u001b[0mtoronto_merged\u001b[0m\u001b[0;34m.\u001b[0m\u001b[0mshape\u001b[0m\u001b[0;34m[\u001b[0m\u001b[0;36m1\u001b[0m\u001b[0;34m]\u001b[0m\u001b[0;34m)\u001b[0m\u001b[0;34m)\u001b[0m\u001b[0;34m]\u001b[0m\u001b[0;34m]\u001b[0m\u001b[0;34m\u001b[0m\u001b[0;34m\u001b[0m\u001b[0m\n\u001b[0m",
                        "\u001b[0;31mNameError\u001b[0m: name 'toronto_merged' is not defined"
                    ]
                }
            ]
        },
        {
            "metadata": {},
            "cell_type": "code",
            "source": "toronto_merged.loc[toronto_merged['Cluster Labels'] == 3, toronto_merged.columns[[1] + list(range(5, toronto_merged.shape[1]))]]",
            "execution_count": 29,
            "outputs": [
                {
                    "output_type": "error",
                    "ename": "NameError",
                    "evalue": "name 'toronto_merged' is not defined",
                    "traceback": [
                        "\u001b[0;31m---------------------------------------------------------------------------\u001b[0m",
                        "\u001b[0;31mNameError\u001b[0m                                 Traceback (most recent call last)",
                        "\u001b[0;32m<ipython-input-29-2e4f6a9b03e1>\u001b[0m in \u001b[0;36m<module>\u001b[0;34m\u001b[0m\n\u001b[0;32m----> 1\u001b[0;31m \u001b[0mtoronto_merged\u001b[0m\u001b[0;34m.\u001b[0m\u001b[0mloc\u001b[0m\u001b[0;34m[\u001b[0m\u001b[0mtoronto_merged\u001b[0m\u001b[0;34m[\u001b[0m\u001b[0;34m'Cluster Labels'\u001b[0m\u001b[0;34m]\u001b[0m \u001b[0;34m==\u001b[0m \u001b[0;36m3\u001b[0m\u001b[0;34m,\u001b[0m \u001b[0mtoronto_merged\u001b[0m\u001b[0;34m.\u001b[0m\u001b[0mcolumns\u001b[0m\u001b[0;34m[\u001b[0m\u001b[0;34m[\u001b[0m\u001b[0;36m1\u001b[0m\u001b[0;34m]\u001b[0m \u001b[0;34m+\u001b[0m \u001b[0mlist\u001b[0m\u001b[0;34m(\u001b[0m\u001b[0mrange\u001b[0m\u001b[0;34m(\u001b[0m\u001b[0;36m5\u001b[0m\u001b[0;34m,\u001b[0m \u001b[0mtoronto_merged\u001b[0m\u001b[0;34m.\u001b[0m\u001b[0mshape\u001b[0m\u001b[0;34m[\u001b[0m\u001b[0;36m1\u001b[0m\u001b[0;34m]\u001b[0m\u001b[0;34m)\u001b[0m\u001b[0;34m)\u001b[0m\u001b[0;34m]\u001b[0m\u001b[0;34m]\u001b[0m\u001b[0;34m\u001b[0m\u001b[0;34m\u001b[0m\u001b[0m\n\u001b[0m",
                        "\u001b[0;31mNameError\u001b[0m: name 'toronto_merged' is not defined"
                    ]
                }
            ]
        },
        {
            "metadata": {
                "scrolled": true
            },
            "cell_type": "code",
            "source": "toronto_merged.loc[toronto_merged['Cluster Labels'] == 4, toronto_merged.columns[[1] + list(range(5, toronto_merged.shape[1]))]]",
            "execution_count": 355,
            "outputs": [
                {
                    "data": {
                        "text/html": "<div>\n<style scoped>\n    .dataframe tbody tr th:only-of-type {\n        vertical-align: middle;\n    }\n\n    .dataframe tbody tr th {\n        vertical-align: top;\n    }\n\n    .dataframe thead th {\n        text-align: right;\n    }\n</style>\n<table border=\"1\" class=\"dataframe\">\n  <thead>\n    <tr style=\"text-align: right;\">\n      <th></th>\n      <th>Borough</th>\n      <th>Cluster Labels</th>\n      <th>1st Most Common Venue</th>\n      <th>2nd Most Common Venue</th>\n      <th>3rd Most Common Venue</th>\n      <th>4th Most Common Venue</th>\n      <th>5th Most Common Venue</th>\n      <th>6th Most Common Venue</th>\n      <th>7th Most Common Venue</th>\n      <th>8th Most Common Venue</th>\n      <th>9th Most Common Venue</th>\n      <th>10th Most Common Venue</th>\n    </tr>\n  </thead>\n  <tbody>\n    <tr>\n      <th>2</th>\n      <td>North York</td>\n      <td>4.0</td>\n      <td>Bus Stop</td>\n      <td>Park</td>\n      <td>Food &amp; Drink Shop</td>\n      <td>Yoga Studio</td>\n      <td>Drugstore</td>\n      <td>Donut Shop</td>\n      <td>Dog Run</td>\n      <td>Distribution Center</td>\n      <td>Discount Store</td>\n      <td>Diner</td>\n    </tr>\n    <tr>\n      <th>32</th>\n      <td>York</td>\n      <td>4.0</td>\n      <td>Park</td>\n      <td>Women's Store</td>\n      <td>Pool</td>\n      <td>Yoga Studio</td>\n      <td>Cuban Restaurant</td>\n      <td>Donut Shop</td>\n      <td>Dog Run</td>\n      <td>Distribution Center</td>\n      <td>Discount Store</td>\n      <td>Diner</td>\n    </tr>\n    <tr>\n      <th>57</th>\n      <td>East York</td>\n      <td>4.0</td>\n      <td>Park</td>\n      <td>Convenience Store</td>\n      <td>Yoga Studio</td>\n      <td>Curling Ice</td>\n      <td>Drugstore</td>\n      <td>Donut Shop</td>\n      <td>Dog Run</td>\n      <td>Distribution Center</td>\n      <td>Discount Store</td>\n      <td>Diner</td>\n    </tr>\n    <tr>\n      <th>73</th>\n      <td>North York</td>\n      <td>4.0</td>\n      <td>Park</td>\n      <td>Cafeteria</td>\n      <td>Yoga Studio</td>\n      <td>Curling Ice</td>\n      <td>Drugstore</td>\n      <td>Donut Shop</td>\n      <td>Dog Run</td>\n      <td>Distribution Center</td>\n      <td>Discount Store</td>\n      <td>Diner</td>\n    </tr>\n    <tr>\n      <th>82</th>\n      <td>North York</td>\n      <td>4.0</td>\n      <td>Park</td>\n      <td>Yoga Studio</td>\n      <td>Cuban Restaurant</td>\n      <td>Drugstore</td>\n      <td>Donut Shop</td>\n      <td>Dog Run</td>\n      <td>Distribution Center</td>\n      <td>Discount Store</td>\n      <td>Diner</td>\n      <td>Dim Sum Restaurant</td>\n    </tr>\n    <tr>\n      <th>100</th>\n      <td>North York</td>\n      <td>4.0</td>\n      <td>Park</td>\n      <td>Convenience Store</td>\n      <td>Yoga Studio</td>\n      <td>Curling Ice</td>\n      <td>Drugstore</td>\n      <td>Donut Shop</td>\n      <td>Dog Run</td>\n      <td>Distribution Center</td>\n      <td>Discount Store</td>\n      <td>Diner</td>\n    </tr>\n    <tr>\n      <th>147</th>\n      <td>Downtown Toronto</td>\n      <td>4.0</td>\n      <td>Park</td>\n      <td>Playground</td>\n      <td>Trail</td>\n      <td>Creperie</td>\n      <td>Donut Shop</td>\n      <td>Dog Run</td>\n      <td>Distribution Center</td>\n      <td>Discount Store</td>\n      <td>Diner</td>\n      <td>Dim Sum Restaurant</td>\n    </tr>\n    <tr>\n      <th>160</th>\n      <td>Etobicoke</td>\n      <td>4.0</td>\n      <td>Park</td>\n      <td>River</td>\n      <td>Yoga Studio</td>\n      <td>Cuban Restaurant</td>\n      <td>Donut Shop</td>\n      <td>Dog Run</td>\n      <td>Distribution Center</td>\n      <td>Discount Store</td>\n      <td>Diner</td>\n      <td>Dim Sum Restaurant</td>\n    </tr>\n    <tr>\n      <th>169</th>\n      <td>Etobicoke</td>\n      <td>4.0</td>\n      <td>Park</td>\n      <td>Baseball Field</td>\n      <td>Yoga Studio</td>\n      <td>Dance Studio</td>\n      <td>Eastern European Restaurant</td>\n      <td>Drugstore</td>\n      <td>Donut Shop</td>\n      <td>Dog Run</td>\n      <td>Distribution Center</td>\n      <td>Discount Store</td>\n    </tr>\n  </tbody>\n</table>\n</div>",
                        "text/plain": "              Borough  Cluster Labels 1st Most Common Venue  \\\n2          North York             4.0              Bus Stop   \n32               York             4.0                  Park   \n57          East York             4.0                  Park   \n73         North York             4.0                  Park   \n82         North York             4.0                  Park   \n100        North York             4.0                  Park   \n147  Downtown Toronto             4.0                  Park   \n160         Etobicoke             4.0                  Park   \n169         Etobicoke             4.0                  Park   \n\n    2nd Most Common Venue 3rd Most Common Venue 4th Most Common Venue  \\\n2                    Park     Food & Drink Shop           Yoga Studio   \n32          Women's Store                  Pool           Yoga Studio   \n57      Convenience Store           Yoga Studio           Curling Ice   \n73              Cafeteria           Yoga Studio           Curling Ice   \n82            Yoga Studio      Cuban Restaurant             Drugstore   \n100     Convenience Store           Yoga Studio           Curling Ice   \n147            Playground                 Trail              Creperie   \n160                 River           Yoga Studio      Cuban Restaurant   \n169        Baseball Field           Yoga Studio          Dance Studio   \n\n           5th Most Common Venue 6th Most Common Venue 7th Most Common Venue  \\\n2                      Drugstore            Donut Shop               Dog Run   \n32              Cuban Restaurant            Donut Shop               Dog Run   \n57                     Drugstore            Donut Shop               Dog Run   \n73                     Drugstore            Donut Shop               Dog Run   \n82                    Donut Shop               Dog Run   Distribution Center   \n100                    Drugstore            Donut Shop               Dog Run   \n147                   Donut Shop               Dog Run   Distribution Center   \n160                   Donut Shop               Dog Run   Distribution Center   \n169  Eastern European Restaurant             Drugstore            Donut Shop   \n\n    8th Most Common Venue 9th Most Common Venue 10th Most Common Venue  \n2     Distribution Center        Discount Store                  Diner  \n32    Distribution Center        Discount Store                  Diner  \n57    Distribution Center        Discount Store                  Diner  \n73    Distribution Center        Discount Store                  Diner  \n82         Discount Store                 Diner     Dim Sum Restaurant  \n100   Distribution Center        Discount Store                  Diner  \n147        Discount Store                 Diner     Dim Sum Restaurant  \n160        Discount Store                 Diner     Dim Sum Restaurant  \n169               Dog Run   Distribution Center         Discount Store  "
                    },
                    "execution_count": 355,
                    "metadata": {},
                    "output_type": "execute_result"
                }
            ]
        }
    ],
    "metadata": {
        "kernelspec": {
            "name": "python3",
            "display_name": "Python 3.7",
            "language": "python"
        },
        "language_info": {
            "name": "python",
            "version": "3.7.10",
            "mimetype": "text/x-python",
            "codemirror_mode": {
                "name": "ipython",
                "version": 3
            },
            "pygments_lexer": "ipython3",
            "nbconvert_exporter": "python",
            "file_extension": ".py"
        }
    },
    "nbformat": 4,
    "nbformat_minor": 1
}
